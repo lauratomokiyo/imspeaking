{
  "nbformat": 4,
  "nbformat_minor": 0,
  "metadata": {
    "colab": {
      "provenance": [],
      "authorship_tag": "ABX9TyPNVMtJtCciLjoy3smepGtl",
      "include_colab_link": true
    },
    "kernelspec": {
      "name": "python3",
      "display_name": "Python 3"
    },
    "language_info": {
      "name": "python"
    },
    "widgets": {
      "application/vnd.jupyter.widget-state+json": {
        "701faf497975460ea1a1f6f285939632": {
          "model_module": "jupyter-webrtc",
          "model_name": "AudioRecorderModel",
          "model_module_version": "~0.6.0",
          "state": {
            "_data_src": "blob:https://dhc6jqdr32w-496ff2e9c6d22116-0-colab.googleusercontent.com/455332fc-ce39-4996-964e-7e7c41b1d808",
            "_dom_classes": [],
            "_model_module": "jupyter-webrtc",
            "_model_module_version": "~0.6.0",
            "_model_name": "AudioRecorderModel",
            "_view_count": null,
            "_view_module": "jupyter-webrtc",
            "_view_module_version": "~0.6.0",
            "_view_name": "AudioRecorderView",
            "audio": "IPY_MODEL_3a241083371644dca80516b5baae8b2f",
            "autosave": false,
            "codecs": "",
            "filename": "record",
            "format": "webm",
            "layout": "IPY_MODEL_0c557d2f44f04ca78823dbe298a808d4",
            "recording": false,
            "stream": "IPY_MODEL_961c8b0740394a1bb2b720dcfb2e5584"
          }
        },
        "3a241083371644dca80516b5baae8b2f": {
          "model_module": "@jupyter-widgets/controls",
          "model_name": "AudioModel",
          "model_module_version": "1.5.0",
          "state": {
            "_dom_classes": [],
            "_model_module": "@jupyter-widgets/controls",
            "_model_module_version": "1.5.0",
            "_model_name": "AudioModel",
            "_view_count": null,
            "_view_module": "@jupyter-widgets/controls",
            "_view_module_version": "1.5.0",
            "_view_name": "AudioView",
            "autoplay": true,
            "controls": true,
            "format": "webm",
            "layout": "IPY_MODEL_ca530feb9fe448b3a42efb1ace233dd3",
            "loop": true
          }
        },
        "0c557d2f44f04ca78823dbe298a808d4": {
          "model_module": "@jupyter-widgets/base",
          "model_name": "LayoutModel",
          "model_module_version": "1.2.0",
          "state": {
            "_model_module": "@jupyter-widgets/base",
            "_model_module_version": "1.2.0",
            "_model_name": "LayoutModel",
            "_view_count": null,
            "_view_module": "@jupyter-widgets/base",
            "_view_module_version": "1.2.0",
            "_view_name": "LayoutView",
            "align_content": null,
            "align_items": null,
            "align_self": null,
            "border": null,
            "bottom": null,
            "display": null,
            "flex": null,
            "flex_flow": null,
            "grid_area": null,
            "grid_auto_columns": null,
            "grid_auto_flow": null,
            "grid_auto_rows": null,
            "grid_column": null,
            "grid_gap": null,
            "grid_row": null,
            "grid_template_areas": null,
            "grid_template_columns": null,
            "grid_template_rows": null,
            "height": null,
            "justify_content": null,
            "justify_items": null,
            "left": null,
            "margin": null,
            "max_height": null,
            "max_width": null,
            "min_height": null,
            "min_width": null,
            "object_fit": null,
            "object_position": null,
            "order": null,
            "overflow": null,
            "overflow_x": null,
            "overflow_y": null,
            "padding": null,
            "right": null,
            "top": null,
            "visibility": null,
            "width": null
          }
        },
        "961c8b0740394a1bb2b720dcfb2e5584": {
          "model_module": "jupyter-webrtc",
          "model_name": "CameraStreamModel",
          "model_module_version": "~0.6.0",
          "state": {
            "_dom_classes": [],
            "_model_module": "jupyter-webrtc",
            "_model_module_version": "~0.6.0",
            "_model_name": "CameraStreamModel",
            "_view_count": null,
            "_view_module": "jupyter-webrtc",
            "_view_module_version": "~0.6.0",
            "_view_name": "MediaStreamView",
            "constraints": {
              "audio": true,
              "video": false
            },
            "layout": "IPY_MODEL_970eaddc24f146c78f3fd563b484ff17"
          }
        },
        "ca530feb9fe448b3a42efb1ace233dd3": {
          "model_module": "@jupyter-widgets/base",
          "model_name": "LayoutModel",
          "model_module_version": "1.2.0",
          "state": {
            "_model_module": "@jupyter-widgets/base",
            "_model_module_version": "1.2.0",
            "_model_name": "LayoutModel",
            "_view_count": null,
            "_view_module": "@jupyter-widgets/base",
            "_view_module_version": "1.2.0",
            "_view_name": "LayoutView",
            "align_content": null,
            "align_items": null,
            "align_self": null,
            "border": null,
            "bottom": null,
            "display": null,
            "flex": null,
            "flex_flow": null,
            "grid_area": null,
            "grid_auto_columns": null,
            "grid_auto_flow": null,
            "grid_auto_rows": null,
            "grid_column": null,
            "grid_gap": null,
            "grid_row": null,
            "grid_template_areas": null,
            "grid_template_columns": null,
            "grid_template_rows": null,
            "height": null,
            "justify_content": null,
            "justify_items": null,
            "left": null,
            "margin": null,
            "max_height": null,
            "max_width": null,
            "min_height": null,
            "min_width": null,
            "object_fit": null,
            "object_position": null,
            "order": null,
            "overflow": null,
            "overflow_x": null,
            "overflow_y": null,
            "padding": null,
            "right": null,
            "top": null,
            "visibility": null,
            "width": null
          }
        },
        "970eaddc24f146c78f3fd563b484ff17": {
          "model_module": "@jupyter-widgets/base",
          "model_name": "LayoutModel",
          "model_module_version": "1.2.0",
          "state": {
            "_model_module": "@jupyter-widgets/base",
            "_model_module_version": "1.2.0",
            "_model_name": "LayoutModel",
            "_view_count": null,
            "_view_module": "@jupyter-widgets/base",
            "_view_module_version": "1.2.0",
            "_view_name": "LayoutView",
            "align_content": null,
            "align_items": null,
            "align_self": null,
            "border": null,
            "bottom": null,
            "display": null,
            "flex": null,
            "flex_flow": null,
            "grid_area": null,
            "grid_auto_columns": null,
            "grid_auto_flow": null,
            "grid_auto_rows": null,
            "grid_column": null,
            "grid_gap": null,
            "grid_row": null,
            "grid_template_areas": null,
            "grid_template_columns": null,
            "grid_template_rows": null,
            "height": null,
            "justify_content": null,
            "justify_items": null,
            "left": null,
            "margin": null,
            "max_height": null,
            "max_width": null,
            "min_height": null,
            "min_width": null,
            "object_fit": null,
            "object_position": null,
            "order": null,
            "overflow": null,
            "overflow_x": null,
            "overflow_y": null,
            "padding": null,
            "right": null,
            "top": null,
            "visibility": null,
            "width": null
          }
        }
      }
    }
  },
  "cells": [
    {
      "cell_type": "markdown",
      "metadata": {
        "id": "view-in-github",
        "colab_type": "text"
      },
      "source": [
        "<a href=\"https://colab.research.google.com/github/lauratomokiyo/imspeaking/blob/main/EdTechProject_v2.ipynb\" target=\"_parent\"><img src=\"https://colab.research.google.com/assets/colab-badge.svg\" alt=\"Open In Colab\"/></a>"
      ]
    },
    {
      "cell_type": "markdown",
      "source": [
        "# Ed Tech Project - Laura Tomokiyo\n",
        "## Instructions\n",
        "\n",
        "To run this notebook, you will run each code block independently.  \n",
        "\n",
        "Sometimes, code blocks are clustered, and you will see a bent arrow and text like \"3 cells hidden.\"  If you mouse over the box at the left of that line, you will see an arrow.  Cick that and wait for the run to complete.  The line around the box will stop spinning when it is complete.\n",
        "\n",
        "Sometimes, you might see some lines of code in a block.  There should be a box made of square brackets at the left of the block.  If you mouse over it, there should be an arrow.  Click the arrow and wait for completion. For these individual (not clustered) blocks, you will see a green check mark when it is complete.\n",
        "\n",
        "Some of the blocks take some time to run, and you will see some output messages.  If you get something like \"error\" at the end, or get a red mark instead of a green check mark, it means that there is a problem with the code.  Please let me know so I can fix it.  Otherwise, you can ignore the messages, but wait for the check mark before you scroll down to the next block."
      ],
      "metadata": {
        "id": "n_VOe13ckFL_"
      }
    },
    {
      "cell_type": "markdown",
      "source": [
        "## Initial Setup\n"
      ],
      "metadata": {
        "id": "zBeYEySIkmC3"
      }
    },
    {
      "cell_type": "code",
      "source": [
        "# Initial imports and installs\n",
        "!sudo apt install ffmpeg\n",
        "!pip install torchaudio -q\n",
        "!pip install ipywebrtc -q\n",
        "!pip install notebook -q\n",
        "#!pip install ipywebrtc --upgrade\n",
        "#!jupyter nbextension enable --py widgetsnbextension\n",
        "!pip install praatio -q\n",
        "!pip install montreal-forced-aligner -q\n",
        "\n",
        "import os\n",
        "import zipfile\n",
        "from datetime import datetime\n",
        "import subprocess\n",
        "import gc\n",
        "\n",
        "\n",
        "from ipywebrtc import AudioRecorder, CameraStream\n",
        "import scipy\n",
        "from IPython.display import Audio, display,HTML\n",
        "\n",
        "from google.colab import output\n",
        "output.enable_custom_widget_manager()\n",
        "\n",
        "import ipywidgets as widgets\n",
        "import matplotlib.pyplot as plt\n",
        "import scipy.io.wavfile\n",
        "import librosa\n",
        "import numpy as np\n",
        "import soundfile as sf\n",
        "from praatio import textgrid\n",
        "import re\n",
        "\n",
        "!pip install pyfiglet\n",
        "import pyfiglet\n",
        "\n",
        "mode = 'live' # offline or live"
      ],
      "metadata": {
        "colab": {
          "base_uri": "https://localhost:8080/"
        },
        "id": "ku9d9ubgkWzY",
        "outputId": "6d7b27be-047d-4cce-bfc8-0bf2924d7e55"
      },
      "execution_count": 162,
      "outputs": [
        {
          "output_type": "stream",
          "name": "stdout",
          "text": [
            "Reading package lists... Done\n",
            "Building dependency tree... Done\n",
            "Reading state information... Done\n",
            "ffmpeg is already the newest version (7:4.4.2-0ubuntu0.22.04.1).\n",
            "0 upgraded, 0 newly installed, 0 to remove and 49 not upgraded.\n",
            "Requirement already satisfied: pyfiglet in /usr/local/lib/python3.10/dist-packages (1.0.2)\n"
          ]
        }
      ]
    },
    {
      "cell_type": "code",
      "source": [
        "### Session Setup\n",
        "\n",
        "GENDER='male'\n",
        "userid = 'flt000'\n",
        "user_favorites = [0]*10\n",
        "import gc"
      ],
      "metadata": {
        "id": "Tm3EjW7Bkn_Q"
      },
      "execution_count": 163,
      "outputs": []
    },
    {
      "cell_type": "code",
      "source": [
        "prompts = [\n",
        "  \"I'd like to make an appointment.\",\n",
        "  \"Can I change my flight return date?\",\n",
        "  \"I'd like the blue cheese burger with bacon.\",\n",
        "  \"How can I get to the train station?\",\n",
        "  \"That's a difficult situation.\",\n",
        "  \"Could we get the check, please?\",\n",
        "  \"Does this bus go to the airport?\",\n",
        "  \"You could ask him.\",\n",
        "  \"Is it okay if I join you?\",\n",
        "  \"Tariffs are paid by the consumer.\"\n",
        "]"
      ],
      "metadata": {
        "id": "tWpGDyW0kuLX"
      },
      "execution_count": 164,
      "outputs": []
    },
    {
      "cell_type": "markdown",
      "source": [
        "##MFA Setup\n",
        "\n",
        "This section sets up the Montreal Forced Aligner.  It takes some time to load and run.  The forced aligner is used to find the boundaries between words and phonemes in the speech signal.\n",
        "\n",
        "Credit https://gist.github.com/NTT123/12264d15afad861cb897f7a20a01762e\n",
        "\n",
        "Credit https://eleanorchodroff.com/tutorial/montreal-forced-aligner.html"
      ],
      "metadata": {
        "id": "ODkfW5wQk121"
      }
    },
    {
      "cell_type": "code",
      "source": [
        "# MFA setup\n",
        "\n",
        "%%writefile install_mfa.sh\n",
        "#!/bin/bash\n",
        "\n",
        "## a script to install Montreal Forced Aligner (MFA)\n",
        "\n",
        "root_dir=${1:-/tmp/mfa}\n",
        "mkdir -p $root_dir\n",
        "cd $root_dir\n",
        "\n",
        "# download miniconda3\n",
        "wget -q --show-progress https://repo.anaconda.com/miniconda/Miniconda3-latest-Linux-x86_64.sh\n",
        "bash Miniconda3-latest-Linux-x86_64.sh -b -p $root_dir/miniconda3 -f\n",
        "\n",
        "$root_dir/miniconda3/bin/conda create -n aligner -c conda-forge montreal-forced-aligner -yq\n",
        "\n",
        "source $root_dir/miniconda3/bin/activate aligner\n",
        "\n",
        "# install mfa, download kaldi\n",
        "#pip install montreal-forced-aligner -q\n",
        "\n",
        "# this one works without Kaldi\n",
        "pip install git+https://github.com/MontrealCorpusTools/Montreal-Forced-Aligner.git -q # install latest updates\n",
        "\n",
        "conda install -yq pytorch torchvision torchaudio cpuonly -c pytorch\n",
        "\n",
        "#mfa thirdparty download\n",
        "#mfa download\n",
        "\n",
        "echo -e \"\\n======== DONE ==========\"\n",
        "\n",
        "\n"
      ],
      "metadata": {
        "colab": {
          "base_uri": "https://localhost:8080/"
        },
        "id": "-aPVQ9E1kyzY",
        "outputId": "fd4c895b-6d22-4d0e-a8ba-74d7a3c0e72c"
      },
      "execution_count": 165,
      "outputs": [
        {
          "output_type": "stream",
          "name": "stdout",
          "text": [
            "Overwriting install_mfa.sh\n"
          ]
        }
      ]
    },
    {
      "cell_type": "code",
      "source": [
        "# download and install mfa\n",
        "INSTALL_DIR=\"/tmp/mfa\" # path to install directory\n",
        "\n",
        "# make sure the environment and dependencies are right for MFA\n",
        "!bash ./install_mfa.sh {INSTALL_DIR}\n",
        "!source {INSTALL_DIR}/miniconda3/bin/activate aligner#; mfa align --help\n",
        "\n",
        "# install sox tool\n",
        "!sudo apt install -q -y sox\n",
        "\n",
        "# download an english acoustic model (needs to be downloaded because we're in a colab?)\n",
        "!wget -q --show-progress https://github.com/MontrealCorpusTools/mfa-models/raw/main/acoustic/english.zip\n"
      ],
      "metadata": {
        "colab": {
          "base_uri": "https://localhost:8080/"
        },
        "id": "gA3x3ZoznHvE",
        "outputId": "c3328cb0-ab39-413f-f896-362b5e2cf4cf"
      },
      "execution_count": 166,
      "outputs": [
        {
          "output_type": "stream",
          "name": "stdout",
          "text": [
            "Miniconda3-latest-L 100%[===================>] 141.46M   148MB/s    in 1.0s    \n",
            "PREFIX=/tmp/mfa/miniconda3\n",
            "Unpacking payload ...\n",
            "\n",
            "Installing base environment...\n",
            "\n",
            "Preparing transaction: ...working... done\n",
            "Executing transaction: ...working... done\n",
            "installation finished.\n",
            "WARNING:\n",
            "    You currently have a PYTHONPATH environment variable set. This may cause\n",
            "    unexpected behavior when running the Python interpreter in Miniconda3.\n",
            "    For best results, please verify that your PYTHONPATH only points to\n",
            "    directories of packages that are compatible with the Python interpreter\n",
            "    in Miniconda3: /tmp/mfa/miniconda3\n",
            "Channels:\n",
            " - conda-forge\n",
            " - defaults\n",
            "Platform: linux-64\n",
            "Collecting package metadata (repodata.json): ...working... done\n",
            "Solving environment: ...working... done\n",
            "\n",
            "## Package Plan ##\n",
            "\n",
            "  environment location: /tmp/mfa/miniconda3/envs/aligner\n",
            "\n",
            "  added / updated specs:\n",
            "    - montreal-forced-aligner\n",
            "\n",
            "\n",
            "The following NEW packages will be INSTALLED:\n",
            "\n",
            "  _libgcc_mutex      conda-forge/linux-64::_libgcc_mutex-0.1-conda_forge \n",
            "  _openmp_mutex      conda-forge/linux-64::_openmp_mutex-4.5-2_gnu \n",
            "  aom                conda-forge/linux-64::aom-3.9.1-hac33072_0 \n",
            "  atk-1.0            conda-forge/linux-64::atk-1.0-2.38.0-h04ea711_2 \n",
            "  audioread          conda-forge/linux-64::audioread-3.0.1-py39hf3d152e_2 \n",
            "  baumwelch          conda-forge/linux-64::baumwelch-0.3.9-h434a139_3 \n",
            "  biopython          conda-forge/linux-64::biopython-1.79-py39hb9d737c_3 \n",
            "  brotli             conda-forge/linux-64::brotli-1.1.0-hb9d3cd8_2 \n",
            "  brotli-bin         conda-forge/linux-64::brotli-bin-1.1.0-hb9d3cd8_2 \n",
            "  brotli-python      conda-forge/linux-64::brotli-python-1.1.0-py39hf88036b_2 \n",
            "  bzip2              conda-forge/linux-64::bzip2-1.0.8-h4bc722e_7 \n",
            "  ca-certificates    conda-forge/linux-64::ca-certificates-2024.8.30-hbcca054_0 \n",
            "  cairo              conda-forge/linux-64::cairo-1.18.0-hebfffa5_3 \n",
            "  certifi            conda-forge/noarch::certifi-2024.8.30-pyhd8ed1ab_0 \n",
            "  cffi               conda-forge/linux-64::cffi-1.17.1-py39h15c3d72_0 \n",
            "  charset-normalizer conda-forge/noarch::charset-normalizer-3.4.0-pyhd8ed1ab_0 \n",
            "  click              conda-forge/noarch::click-8.1.7-unix_pyh707e725_0 \n",
            "  colorama           conda-forge/noarch::colorama-0.4.6-pyhd8ed1ab_0 \n",
            "  contourpy          conda-forge/linux-64::contourpy-1.3.0-py39h74842e3_2 \n",
            "  cycler             conda-forge/noarch::cycler-0.12.1-pyhd8ed1ab_0 \n",
            "  dataclassy         conda-forge/noarch::dataclassy-1.0.1-pyhd8ed1ab_0 \n",
            "  dav1d              conda-forge/linux-64::dav1d-1.2.1-hd590300_0 \n",
            "  decorator          conda-forge/noarch::decorator-5.1.1-pyhd8ed1ab_0 \n",
            "  ffmpeg             conda-forge/linux-64::ffmpeg-7.1.0-gpl_hbb807a5_703 \n",
            "  font-ttf-dejavu-s~ conda-forge/noarch::font-ttf-dejavu-sans-mono-2.37-hab24e00_0 \n",
            "  font-ttf-inconsol~ conda-forge/noarch::font-ttf-inconsolata-3.000-h77eed37_0 \n",
            "  font-ttf-source-c~ conda-forge/noarch::font-ttf-source-code-pro-2.038-h77eed37_0 \n",
            "  font-ttf-ubuntu    conda-forge/noarch::font-ttf-ubuntu-0.83-h77eed37_3 \n",
            "  fontconfig         conda-forge/linux-64::fontconfig-2.15.0-h7e30c49_1 \n",
            "  fonts-conda-ecosy~ conda-forge/noarch::fonts-conda-ecosystem-1-0 \n",
            "  fonts-conda-forge  conda-forge/noarch::fonts-conda-forge-1-0 \n",
            "  fonttools          conda-forge/linux-64::fonttools-4.54.1-py39h9399b63_1 \n",
            "  freetype           conda-forge/linux-64::freetype-2.12.1-h267a509_2 \n",
            "  fribidi            conda-forge/linux-64::fribidi-1.0.10-h36c2ea0_0 \n",
            "  gdk-pixbuf         conda-forge/linux-64::gdk-pixbuf-2.42.12-hb9ae30d_0 \n",
            "  gettext            conda-forge/linux-64::gettext-0.22.5-he02047a_3 \n",
            "  gettext-tools      conda-forge/linux-64::gettext-tools-0.22.5-he02047a_3 \n",
            "  gmp                conda-forge/linux-64::gmp-6.3.0-hac33072_2 \n",
            "  graphite2          conda-forge/linux-64::graphite2-1.3.13-h59595ed_1003 \n",
            "  graphviz           conda-forge/linux-64::graphviz-12.0.0-hba01fac_0 \n",
            "  greenlet           conda-forge/linux-64::greenlet-3.1.1-py39hf88036b_0 \n",
            "  gtk2               conda-forge/linux-64::gtk2-2.24.33-h6470451_5 \n",
            "  gts                conda-forge/linux-64::gts-0.7.6-h977cf35_4 \n",
            "  h2                 conda-forge/noarch::h2-4.1.0-pyhd8ed1ab_0 \n",
            "  harfbuzz           conda-forge/linux-64::harfbuzz-9.0.0-hda332d3_1 \n",
            "  hdbscan            conda-forge/linux-64::hdbscan-0.8.39-py39hf3d9206_0 \n",
            "  hpack              conda-forge/noarch::hpack-4.0.0-pyh9f0ad1d_0 \n",
            "  hyperframe         conda-forge/noarch::hyperframe-6.0.1-pyhd8ed1ab_0 \n",
            "  icu                conda-forge/linux-64::icu-75.1-he02047a_0 \n",
            "  idna               conda-forge/noarch::idna-3.10-pyhd8ed1ab_0 \n",
            "  importlib-metadata conda-forge/noarch::importlib-metadata-8.5.0-pyha770c72_0 \n",
            "  importlib-resourc~ conda-forge/noarch::importlib-resources-6.4.5-pyhd8ed1ab_0 \n",
            "  importlib_resourc~ conda-forge/noarch::importlib_resources-6.4.5-pyhd8ed1ab_0 \n",
            "  joblib             conda-forge/noarch::joblib-1.4.2-pyhd8ed1ab_0 \n",
            "  kaldi              conda-forge/linux-64::kaldi-5.5.1112-cpu_hd7b63f8_5 \n",
            "  kalpy              conda-forge/linux-64::kalpy-0.6.9-py39h74842e3_0 \n",
            "  keyutils           conda-forge/linux-64::keyutils-1.6.1-h166bdaf_0 \n",
            "  kiwisolver         conda-forge/linux-64::kiwisolver-1.4.7-py39h74842e3_0 \n",
            "  kneed              conda-forge/noarch::kneed-0.8.5-pyhd8ed1ab_0 \n",
            "  krb5               conda-forge/linux-64::krb5-1.21.3-h659f571_0 \n",
            "  lame               conda-forge/linux-64::lame-3.100-h166bdaf_1003 \n",
            "  lazy-loader        conda-forge/noarch::lazy-loader-0.4-pyhd8ed1ab_1 \n",
            "  lazy_loader        conda-forge/noarch::lazy_loader-0.4-pyhd8ed1ab_1 \n",
            "  lcms2              conda-forge/linux-64::lcms2-2.16-hb7c19ff_0 \n",
            "  ld_impl_linux-64   conda-forge/linux-64::ld_impl_linux-64-2.43-h712a8e2_2 \n",
            "  lerc               conda-forge/linux-64::lerc-4.0.0-h27087fc_0 \n",
            "  libabseil          conda-forge/linux-64::libabseil-20240722.0-cxx17_h5888daf_1 \n",
            "  libasprintf        conda-forge/linux-64::libasprintf-0.22.5-he8f35ee_3 \n",
            "  libasprintf-devel  conda-forge/linux-64::libasprintf-devel-0.22.5-he8f35ee_3 \n",
            "  libass             conda-forge/linux-64::libass-0.17.3-h1dc1e6a_0 \n",
            "  libblas            conda-forge/linux-64::libblas-3.9.0-25_linux64_openblas \n",
            "  libbrotlicommon    conda-forge/linux-64::libbrotlicommon-1.1.0-hb9d3cd8_2 \n",
            "  libbrotlidec       conda-forge/linux-64::libbrotlidec-1.1.0-hb9d3cd8_2 \n",
            "  libbrotlienc       conda-forge/linux-64::libbrotlienc-1.1.0-hb9d3cd8_2 \n",
            "  libcblas           conda-forge/linux-64::libcblas-3.9.0-25_linux64_openblas \n",
            "  libdeflate         conda-forge/linux-64::libdeflate-1.22-hb9d3cd8_0 \n",
            "  libdrm             conda-forge/linux-64::libdrm-2.4.123-hb9d3cd8_0 \n",
            "  libedit            conda-forge/linux-64::libedit-3.1.20191231-he28a2e2_2 \n",
            "  libegl             conda-forge/linux-64::libegl-1.7.0-ha4b6fd6_1 \n",
            "  libexpat           conda-forge/linux-64::libexpat-2.6.4-h5888daf_0 \n",
            "  libffi             conda-forge/linux-64::libffi-3.4.2-h7f98852_5 \n",
            "  libflac            conda-forge/linux-64::libflac-1.4.3-h59595ed_0 \n",
            "  libgcc             conda-forge/linux-64::libgcc-14.2.0-h77fa898_1 \n",
            "  libgcc-ng          conda-forge/linux-64::libgcc-ng-14.2.0-h69a702a_1 \n",
            "  libgd              conda-forge/linux-64::libgd-2.3.3-hd3e95f3_10 \n",
            "  libgettextpo       conda-forge/linux-64::libgettextpo-0.22.5-he02047a_3 \n",
            "  libgettextpo-devel conda-forge/linux-64::libgettextpo-devel-0.22.5-he02047a_3 \n",
            "  libgfortran        conda-forge/linux-64::libgfortran-14.2.0-h69a702a_1 \n",
            "  libgfortran-ng     conda-forge/linux-64::libgfortran-ng-14.2.0-h69a702a_1 \n",
            "  libgfortran5       conda-forge/linux-64::libgfortran5-14.2.0-hd5240d6_1 \n",
            "  libgl              conda-forge/linux-64::libgl-1.7.0-ha4b6fd6_1 \n",
            "  libglib            conda-forge/linux-64::libglib-2.82.2-h2ff4ddf_0 \n",
            "  libglvnd           conda-forge/linux-64::libglvnd-1.7.0-ha4b6fd6_1 \n",
            "  libglx             conda-forge/linux-64::libglx-1.7.0-ha4b6fd6_1 \n",
            "  libgomp            conda-forge/linux-64::libgomp-14.2.0-h77fa898_1 \n",
            "  libhwloc           conda-forge/linux-64::libhwloc-2.11.2-default_he43201b_1000 \n",
            "  libiconv           conda-forge/linux-64::libiconv-1.17-hd590300_2 \n",
            "  libjpeg-turbo      conda-forge/linux-64::libjpeg-turbo-3.0.0-hd590300_1 \n",
            "  liblapack          conda-forge/linux-64::liblapack-3.9.0-25_linux64_openblas \n",
            "  liblapacke         conda-forge/linux-64::liblapacke-3.9.0-25_linux64_openblas \n",
            "  libllvm14          conda-forge/linux-64::libllvm14-14.0.6-hcd5def8_4 \n",
            "  libnsl             conda-forge/linux-64::libnsl-2.0.1-hd590300_0 \n",
            "  libogg             conda-forge/linux-64::libogg-1.3.5-h4ab18f5_0 \n",
            "  libopenblas        conda-forge/linux-64::libopenblas-0.3.28-pthreads_h94d23a6_1 \n",
            "  libopenvino        conda-forge/linux-64::libopenvino-2024.4.0-hac27bb2_2 \n",
            "  libopenvino-auto-~ conda-forge/linux-64::libopenvino-auto-batch-plugin-2024.4.0-h4d9b6c2_2 \n",
            "  libopenvino-auto-~ conda-forge/linux-64::libopenvino-auto-plugin-2024.4.0-h4d9b6c2_2 \n",
            "  libopenvino-heter~ conda-forge/linux-64::libopenvino-hetero-plugin-2024.4.0-h3f63f65_2 \n",
            "  libopenvino-intel~ conda-forge/linux-64::libopenvino-intel-cpu-plugin-2024.4.0-hac27bb2_2 \n",
            "  libopenvino-intel~ conda-forge/linux-64::libopenvino-intel-gpu-plugin-2024.4.0-hac27bb2_2 \n",
            "  libopenvino-intel~ conda-forge/linux-64::libopenvino-intel-npu-plugin-2024.4.0-hac27bb2_2 \n",
            "  libopenvino-ir-fr~ conda-forge/linux-64::libopenvino-ir-frontend-2024.4.0-h3f63f65_2 \n",
            "  libopenvino-onnx-~ conda-forge/linux-64::libopenvino-onnx-frontend-2024.4.0-h5c8f2c3_2 \n",
            "  libopenvino-paddl~ conda-forge/linux-64::libopenvino-paddle-frontend-2024.4.0-h5c8f2c3_2 \n",
            "  libopenvino-pytor~ conda-forge/linux-64::libopenvino-pytorch-frontend-2024.4.0-h5888daf_2 \n",
            "  libopenvino-tenso~ conda-forge/linux-64::libopenvino-tensorflow-frontend-2024.4.0-h6481b9d_2 \n",
            "  libopenvino-tenso~ conda-forge/linux-64::libopenvino-tensorflow-lite-frontend-2024.4.0-h5888daf_2 \n",
            "  libopus            conda-forge/linux-64::libopus-1.3.1-h7f98852_1 \n",
            "  libpciaccess       conda-forge/linux-64::libpciaccess-0.18-hd590300_0 \n",
            "  libpng             conda-forge/linux-64::libpng-1.6.44-hadc24fc_0 \n",
            "  libpq              conda-forge/linux-64::libpq-16.4-h2d7952a_3 \n",
            "  libprotobuf        conda-forge/linux-64::libprotobuf-5.28.2-h5b01275_0 \n",
            "  librosa            conda-forge/noarch::librosa-0.10.2.post1-pyhd8ed1ab_0 \n",
            "  librsvg            conda-forge/linux-64::librsvg-2.58.4-hc0ffecb_0 \n",
            "  libsndfile         conda-forge/linux-64::libsndfile-1.2.2-hc60ed4a_1 \n",
            "  libsqlite          conda-forge/linux-64::libsqlite-3.47.0-hadc24fc_1 \n",
            "  libstdcxx          conda-forge/linux-64::libstdcxx-14.2.0-hc0a3c3a_1 \n",
            "  libstdcxx-ng       conda-forge/linux-64::libstdcxx-ng-14.2.0-h4852527_1 \n",
            "  libtiff            conda-forge/linux-64::libtiff-4.7.0-he137b08_1 \n",
            "  libuuid            conda-forge/linux-64::libuuid-2.38.1-h0b41bf4_0 \n",
            "  libva              conda-forge/linux-64::libva-2.22.0-h8a09558_1 \n",
            "  libvorbis          conda-forge/linux-64::libvorbis-1.3.7-h9c3ff4c_0 \n",
            "  libvpx             conda-forge/linux-64::libvpx-1.14.1-hac33072_0 \n",
            "  libwebp-base       conda-forge/linux-64::libwebp-base-1.4.0-hd590300_0 \n",
            "  libxcb             conda-forge/linux-64::libxcb-1.17.0-h8a09558_0 \n",
            "  libxcrypt          conda-forge/linux-64::libxcrypt-4.4.36-hd590300_1 \n",
            "  libxml2            conda-forge/linux-64::libxml2-2.13.4-hb346dea_2 \n",
            "  libzlib            conda-forge/linux-64::libzlib-1.3.1-hb9d3cd8_2 \n",
            "  llvmlite           conda-forge/linux-64::llvmlite-0.43.0-py39hf8b6b1a_1 \n",
            "  mad                conda-forge/linux-64::mad-0.15.1b-h9c3ff4c_1 \n",
            "  markdown-it-py     conda-forge/noarch::markdown-it-py-3.0.0-pyhd8ed1ab_0 \n",
            "  matplotlib-base    conda-forge/linux-64::matplotlib-base-3.9.2-py39h16632d1_2 \n",
            "  mdurl              conda-forge/noarch::mdurl-0.1.2-pyhd8ed1ab_0 \n",
            "  montreal-forced-a~ conda-forge/noarch::montreal-forced-aligner-3.2.0-pyhe5570ce_1 \n",
            "  mpg123             conda-forge/linux-64::mpg123-1.32.9-hc50e24c_0 \n",
            "  msgpack-python     conda-forge/linux-64::msgpack-python-1.1.0-py39h74842e3_0 \n",
            "  munkres            conda-forge/noarch::munkres-1.1.4-pyh9f0ad1d_0 \n",
            "  ncurses            conda-forge/linux-64::ncurses-6.5-he02047a_1 \n",
            "  ngram              conda-forge/linux-64::ngram-1.3.16-h434a139_1 \n",
            "  numba              conda-forge/linux-64::numba-0.60.0-py39h0320e7d_0 \n",
            "  numpy              conda-forge/linux-64::numpy-1.26.4-py39h474f0d3_0 \n",
            "  ocl-icd            conda-forge/linux-64::ocl-icd-2.3.2-hd590300_1 \n",
            "  openfst            conda-forge/linux-64::openfst-1.8.3-h84d6215_3 \n",
            "  openh264           conda-forge/linux-64::openh264-2.4.1-h59595ed_0 \n",
            "  openjpeg           conda-forge/linux-64::openjpeg-2.5.2-h488ebb8_0 \n",
            "  openssl            conda-forge/linux-64::openssl-3.3.2-hb9d3cd8_0 \n",
            "  packaging          conda-forge/noarch::packaging-24.1-pyhd8ed1ab_0 \n",
            "  pango              conda-forge/linux-64::pango-1.54.0-h4c5309f_1 \n",
            "  pcre2              conda-forge/linux-64::pcre2-10.44-hba22ea6_2 \n",
            "  pgvector           conda-forge/linux-64::pgvector-0.7.4-h2f8f9d6_0 \n",
            "  pgvector-python    conda-forge/noarch::pgvector-python-0.3.5-pyh1ff3077_0 \n",
            "  pillow             conda-forge/linux-64::pillow-11.0.0-py39h538c539_0 \n",
            "  pip                conda-forge/noarch::pip-24.3.1-pyh8b19718_0 \n",
            "  pixman             conda-forge/linux-64::pixman-0.43.2-h59595ed_0 \n",
            "  platformdirs       conda-forge/noarch::platformdirs-4.3.6-pyhd8ed1ab_0 \n",
            "  pooch              conda-forge/noarch::pooch-1.8.2-pyhd8ed1ab_0 \n",
            "  postgresql         conda-forge/linux-64::postgresql-16.4-hb2eb5c0_3 \n",
            "  praatio            conda-forge/noarch::praatio-6.0.0-pyhd8ed1ab_0 \n",
            "  psycopg2           conda-forge/linux-64::psycopg2-2.9.9-py39hb0ae343_1 \n",
            "  pthread-stubs      conda-forge/linux-64::pthread-stubs-0.4-hb9d3cd8_1002 \n",
            "  pugixml            conda-forge/linux-64::pugixml-1.14-h59595ed_0 \n",
            "  pycparser          conda-forge/noarch::pycparser-2.22-pyhd8ed1ab_0 \n",
            "  pygments           conda-forge/noarch::pygments-2.18.0-pyhd8ed1ab_0 \n",
            "  pynini             conda-forge/linux-64::pynini-2.1.6-py39h7633fee_0 \n",
            "  pyparsing          conda-forge/noarch::pyparsing-3.2.0-pyhd8ed1ab_1 \n",
            "  pysocks            conda-forge/noarch::pysocks-1.7.1-pyha2e5f31_6 \n",
            "  pysoundfile        conda-forge/noarch::pysoundfile-0.12.1-pypyhd8ed1ab_1 \n",
            "  python             conda-forge/linux-64::python-3.9.20-h13acc7a_1_cpython \n",
            "  python-dateutil    conda-forge/noarch::python-dateutil-2.9.0-pyhd8ed1ab_0 \n",
            "  python_abi         conda-forge/linux-64::python_abi-3.9-5_cp39 \n",
            "  pyyaml             conda-forge/linux-64::pyyaml-6.0.2-py39h8cd3c5a_1 \n",
            "  qhull              conda-forge/linux-64::qhull-2020.2-h434a139_5 \n",
            "  readline           conda-forge/linux-64::readline-8.2-h8228510_1 \n",
            "  requests           conda-forge/noarch::requests-2.32.3-pyhd8ed1ab_0 \n",
            "  rich               conda-forge/noarch::rich-13.9.4-pyhd8ed1ab_0 \n",
            "  rich-click         conda-forge/noarch::rich-click-1.8.3-pyhd8ed1ab_0 \n",
            "  scikit-learn       conda-forge/linux-64::scikit-learn-1.2.2-py39hc236052_2 \n",
            "  scipy              conda-forge/linux-64::scipy-1.13.1-py39haf93ffa_0 \n",
            "  setuptools         conda-forge/noarch::setuptools-75.3.0-pyhd8ed1ab_0 \n",
            "  six                conda-forge/noarch::six-1.16.0-pyh6c4a22f_0 \n",
            "  snappy             conda-forge/linux-64::snappy-1.2.1-ha2e4443_0 \n",
            "  sox                conda-forge/linux-64::sox-14.4.2-h32e7c5b_1019 \n",
            "  soxr               conda-forge/linux-64::soxr-0.1.3-h0b41bf4_3 \n",
            "  soxr-python        conda-forge/linux-64::soxr-python-0.5.0.post1-py39hf88036b_1 \n",
            "  sqlalchemy         conda-forge/linux-64::sqlalchemy-2.0.36-py39h8cd3c5a_0 \n",
            "  sqlite             conda-forge/linux-64::sqlite-3.47.0-h9eae976_1 \n",
            "  svt-av1            conda-forge/linux-64::svt-av1-2.3.0-h5888daf_0 \n",
            "  tbb                conda-forge/linux-64::tbb-2022.0.0-hceb3a55_0 \n",
            "  threadpoolctl      conda-forge/noarch::threadpoolctl-3.5.0-pyhc1e730c_0 \n",
            "  tk                 conda-forge/linux-64::tk-8.6.13-noxft_h4845f30_101 \n",
            "  tqdm               conda-forge/noarch::tqdm-4.67.0-pyhd8ed1ab_0 \n",
            "  typing-extensions  conda-forge/noarch::typing-extensions-4.12.2-hd8ed1ab_0 \n",
            "  typing_extensions  conda-forge/noarch::typing_extensions-4.12.2-pyha770c72_0 \n",
            "  tzcode             conda-forge/linux-64::tzcode-2024b-hb9d3cd8_0 \n",
            "  tzdata             conda-forge/noarch::tzdata-2024b-hc8b5060_0 \n",
            "  unicodedata2       conda-forge/linux-64::unicodedata2-15.1.0-py39h8cd3c5a_1 \n",
            "  urllib3            conda-forge/noarch::urllib3-2.2.3-pyhd8ed1ab_0 \n",
            "  wayland            conda-forge/linux-64::wayland-1.23.1-h3e06ad9_0 \n",
            "  wayland-protocols  conda-forge/noarch::wayland-protocols-1.37-hd8ed1ab_0 \n",
            "  wheel              conda-forge/noarch::wheel-0.45.0-pyhd8ed1ab_0 \n",
            "  x264               conda-forge/linux-64::x264-1!164.3095-h166bdaf_2 \n",
            "  x265               conda-forge/linux-64::x265-3.5-h924138e_3 \n",
            "  xorg-libice        conda-forge/linux-64::xorg-libice-1.1.1-hb9d3cd8_1 \n",
            "  xorg-libsm         conda-forge/linux-64::xorg-libsm-1.2.4-he73a12e_1 \n",
            "  xorg-libx11        conda-forge/linux-64::xorg-libx11-1.8.10-h4f16b4b_0 \n",
            "  xorg-libxau        conda-forge/linux-64::xorg-libxau-1.0.11-hb9d3cd8_1 \n",
            "  xorg-libxdmcp      conda-forge/linux-64::xorg-libxdmcp-1.1.5-hb9d3cd8_0 \n",
            "  xorg-libxext       conda-forge/linux-64::xorg-libxext-1.3.6-hb9d3cd8_0 \n",
            "  xorg-libxfixes     conda-forge/linux-64::xorg-libxfixes-6.0.1-hb9d3cd8_0 \n",
            "  xorg-libxrender    conda-forge/linux-64::xorg-libxrender-0.9.11-hb9d3cd8_1 \n",
            "  xorg-xorgproto     conda-forge/linux-64::xorg-xorgproto-2024.1-hb9d3cd8_1 \n",
            "  xz                 conda-forge/linux-64::xz-5.2.6-h166bdaf_0 \n",
            "  yaml               conda-forge/linux-64::yaml-0.2.5-h7f98852_2 \n",
            "  zipp               conda-forge/noarch::zipp-3.21.0-pyhd8ed1ab_0 \n",
            "  zlib               conda-forge/linux-64::zlib-1.3.1-hb9d3cd8_2 \n",
            "  zstandard          conda-forge/linux-64::zstandard-0.23.0-py39h08a7858_1 \n",
            "  zstd               conda-forge/linux-64::zstd-1.5.6-ha6fb4c9_0 \n",
            "\n",
            "\n",
            "Preparing transaction: ...working... done\n",
            "Verifying transaction: ...working... done\n",
            "Executing transaction: ...working... \n",
            "\n",
            "done\n",
            "  Installing build dependencies ... \u001b[?25l\u001b[?25hdone\n",
            "  Getting requirements to build wheel ... \u001b[?25l\u001b[?25hdone\n",
            "  Preparing metadata (pyproject.toml) ... \u001b[?25l\u001b[?25hdone\n",
            "Channels:\n",
            " - pytorch\n",
            " - defaults\n",
            " - conda-forge\n",
            "Platform: linux-64\n",
            "Collecting package metadata (repodata.json): ...working... done\n",
            "Solving environment: ...working... done\n",
            "\n",
            "## Package Plan ##\n",
            "\n",
            "  environment location: /tmp/mfa/miniconda3/envs/aligner\n",
            "\n",
            "  added / updated specs:\n",
            "    - cpuonly\n",
            "    - pytorch\n",
            "    - torchaudio\n",
            "    - torchvision\n",
            "\n",
            "\n",
            "The following NEW packages will be INSTALLED:\n",
            "\n",
            "  blas               pkgs/main/linux-64::blas-1.0-mkl \n",
            "  cpuonly            pytorch/noarch::cpuonly-2.0-0 \n",
            "  filelock           pkgs/main/linux-64::filelock-3.13.1-py39h06a4308_0 \n",
            "  giflib             pkgs/main/linux-64::giflib-5.2.2-h5eee18b_0 \n",
            "  gmpy2              pkgs/main/linux-64::gmpy2-2.1.2-py39heeb90bb_0 \n",
            "  gnutls             pkgs/main/linux-64::gnutls-3.6.15-he1e5248_0 \n",
            "  intel-openmp       pkgs/main/linux-64::intel-openmp-2022.0.1-h06a4308_3633 \n",
            "  jinja2             pkgs/main/linux-64::jinja2-3.1.4-py39h06a4308_1 \n",
            "  libidn2            pkgs/main/linux-64::libidn2-2.3.4-h5eee18b_0 \n",
            "  libtasn1           pkgs/main/linux-64::libtasn1-4.19.0-h5eee18b_0 \n",
            "  libunistring       pkgs/main/linux-64::libunistring-0.9.10-h27cfd23_0 \n",
            "  libwebp            conda-forge/linux-64::libwebp-1.4.0-h2c329e2_0 \n",
            "  llvm-openmp        conda-forge/linux-64::llvm-openmp-15.0.7-h0cdce71_0 \n",
            "  markupsafe         pkgs/main/linux-64::markupsafe-2.1.3-py39h5eee18b_0 \n",
            "  mkl                pkgs/main/linux-64::mkl-2022.1.0-hc2b9512_224 \n",
            "  mpc                pkgs/main/linux-64::mpc-1.1.0-h10f8cd9_1 \n",
            "  mpfr               pkgs/main/linux-64::mpfr-4.0.2-hb69a4c5_1 \n",
            "  mpmath             pkgs/main/linux-64::mpmath-1.3.0-py39h06a4308_0 \n",
            "  nettle             pkgs/main/linux-64::nettle-3.7.3-hbbd107a_1 \n",
            "  networkx           pkgs/main/linux-64::networkx-3.2.1-py39h06a4308_0 \n",
            "  pytorch            pytorch/linux-64::pytorch-2.5.1-py3.9_cpu_0 \n",
            "  pytorch-mutex      pytorch/noarch::pytorch-mutex-1.0-cpu \n",
            "  sympy              pkgs/main/linux-64::sympy-1.13.2-py39h06a4308_0 \n",
            "  torchaudio         pytorch/linux-64::torchaudio-2.5.1-py39_cpu \n",
            "  torchvision        pytorch/linux-64::torchvision-0.20.1-py39_cpu \n",
            "\n",
            "The following packages will be UPDATED:\n",
            "\n",
            "  ca-certificates    conda-forge::ca-certificates-2024.8.3~ --> pkgs/main::ca-certificates-2024.9.24-h06a4308_0 \n",
            "\n",
            "The following packages will be SUPERSEDED by a higher-priority channel:\n",
            "\n",
            "  certifi            conda-forge/noarch::certifi-2024.8.30~ --> pkgs/main/linux-64::certifi-2024.8.30-py39h06a4308_0 \n",
            "  openh264           conda-forge::openh264-2.4.1-h59595ed_0 --> pkgs/main::openh264-2.1.1-h4ff587b_0 \n",
            "\n",
            "The following packages will be DOWNGRADED:\n",
            "\n",
            "  ffmpeg                             7.1.0-gpl_hbb807a5_703 --> 4.4.0-hca11adc_0 \n",
            "  libblas                         3.9.0-25_linux64_openblas --> 3.9.0-16_linux64_mkl \n",
            "  libcblas                        3.9.0-25_linux64_openblas --> 3.9.0-16_linux64_mkl \n",
            "  liblapack                       3.9.0-25_linux64_openblas --> 3.9.0-16_linux64_mkl \n",
            "  liblapacke                      3.9.0-25_linux64_openblas --> 3.9.0-16_linux64_mkl \n",
            "  x264                                1!164.3095-h166bdaf_2 --> 1!161.3030-h7f98852_1 \n",
            "\n",
            "\n",
            "Preparing transaction: ...working... done\n",
            "Verifying transaction: ...working... done\n",
            "Executing transaction: ...working... done\n",
            "\n",
            "======== DONE ==========\n",
            "\n",
            "EnvironmentNameNotFound: Could not find conda environment: aligner#\n",
            "You can list all discoverable environments with `conda info --envs`.\n",
            "\n",
            "\n",
            "Traceback (most recent call last):\n",
            "  File \"/usr/local/bin/mfa\", line 5, in <module>\n",
            "    from montreal_forced_aligner.command_line.mfa import mfa_cli\n",
            "  File \"/usr/local/lib/python3.10/dist-packages/montreal_forced_aligner/__init__.py\", line 4, in <module>\n",
            "    import montreal_forced_aligner.acoustic_modeling as acoustic_modeling\n",
            "  File \"/usr/local/lib/python3.10/dist-packages/montreal_forced_aligner/acoustic_modeling/__init__.py\", line 7, in <module>\n",
            "    from montreal_forced_aligner.acoustic_modeling.base import AcousticModelTrainingMixin  # noqa\n",
            "  File \"/usr/local/lib/python3.10/dist-packages/montreal_forced_aligner/acoustic_modeling/base.py\", line 11, in <module>\n",
            "    from _kalpy.gmm import AccumAmDiagGmm\n",
            "ModuleNotFoundError: No module named '_kalpy'\n",
            "Reading package lists...\n",
            "Building dependency tree...\n",
            "Reading state information...\n",
            "sox is already the newest version (14.4.2+git20190427-2+deb11u2ubuntu0.22.04.1).\n",
            "0 upgraded, 0 newly installed, 0 to remove and 49 not upgraded.\n",
            "english.zip.2       100%[===================>]  14.05M  --.-KB/s    in 0.1s    \n"
          ]
        }
      ]
    },
    {
      "cell_type": "code",
      "source": [
        "# Get audio files\n",
        "# these are the reference files that have been pre-recorded, and also pre-recorded learner files for debugging\n",
        "\n",
        "#!wget -q https://raw.githubusercontent.com/lauratomokiyo/imspeaking/main/r4.zip\n",
        "!wget -q https://raw.githubusercontent.com/lauratomokiyo/imspeaking/main/rft4.zip\n",
        "!wget -q https://raw.githubusercontent.com/lauratomokiyo/imspeaking/main/rmt4.zip\n",
        "!wget -q https://raw.githubusercontent.com/lauratomokiyo/imspeaking/main/fyi.zip\n",
        "!wget -q https://raw.githubusercontent.com/lauratomokiyo/imspeaking/main/promptlex.txt\n",
        "!unzip -qq /content/rft4.zip  # female reference\n",
        "!unzip -qq /content/rmt4.zip # male reference\n",
        "!unzip -qq /content/fyi.zip # female learner\n",
        "\n",
        "reffiledir = \"/content/reference_audio_female_trimmed/\"\n",
        "learnerfiledir = \"/content/learner_baseline_audio/\"\n",
        "\n",
        "if mode == 'offline':\n",
        "  !wget -q https://raw.githubusercontent.com/lauratomokiyo/imspeaking/main/f.zip\n",
        "  !unzip -qq /content/f.zip\n",
        "\n",
        "tempalignmentdir = '/content/mfa/'\n",
        "\n"
      ],
      "metadata": {
        "colab": {
          "base_uri": "https://localhost:8080/"
        },
        "id": "vjG7PxAenIRm",
        "outputId": "896c2796-7cd2-4719-fa54-7b78a23163ef"
      },
      "execution_count": 167,
      "outputs": [
        {
          "output_type": "stream",
          "name": "stdout",
          "text": [
            "replace reference_audio_female_trimmed/r1.wav? [y]es, [n]o, [A]ll, [N]one, [r]ename: replace reference_audio_male_trimmed/r1.wav? [y]es, [n]o, [A]ll, [N]one, [r]ename: A\n",
            "replace saved_files/recording_fyi001_1_0.wav? [y]es, [n]o, [A]ll, [N]one, [r]ename: A\n"
          ]
        }
      ]
    },
    {
      "cell_type": "markdown",
      "source": [
        "### Support functions for plotting\n"
      ],
      "metadata": {
        "id": "5wxK_Y2npSL3"
      }
    },
    {
      "cell_type": "code",
      "source": [
        "# Display pitch contours and duration information\n",
        "\n",
        "def get_duration_statistics(tier):\n",
        "  vowel_count = 0\n",
        "  vowel_duration = 0\n",
        "  for (start,stop,word) in tier.entries:\n",
        "    if any(digit in word for digit in ['0','1','2']):\n",
        "      vowel_count += 1\n",
        "      vowel_duration += (stop-start)\n",
        "\n",
        "  nwords = len(tier)\n",
        "  utt_start = tier.entries[0][0]\n",
        "  utt_end = tier.entries[-1][1]\n",
        "  speaking_duration = utt_end-utt_start\n",
        "  speaking_rate = nwords/speaking_duration\n",
        "  ave_vowel_dur = vowel_duration / vowel_count\n",
        "#  print(f'there is {speaking_duration} total speaking time and {nwords} phonemes')\n",
        "  return(speaking_rate,ave_vowel_dur)\n",
        "\n",
        "def trim_clicks(audiofile):\n",
        "  # assume hop_length = 512\n",
        "  # click is about 0.05s\n",
        "  trim_dur = 512*3\n",
        "  return(audiofile[trim_dur:-trim_dur])\n",
        "\n",
        "def trim_silence(audiofile):\n",
        "  trimmed,index = librosa.effects.trim(audiofile,top_db=20)\n",
        "  # add a small amount of silence back for naturalness\n",
        "  buffer_length = 10*512 # 10 frames * 512 hop length\n",
        "  buffer_length = 2*512 # 10 frames * 512 hop length\n",
        "  start_index = max(0,index[0] - buffer_length)\n",
        "  end_index = min(index[1] + buffer_length, len(audiofile))\n",
        "  audio_with_buffer = audiofile[start_index:end_index]\n",
        "  return(audio_with_buffer)\n"
      ],
      "metadata": {
        "id": "opfOs2dmpRB5"
      },
      "execution_count": 168,
      "outputs": []
    },
    {
      "cell_type": "markdown",
      "source": [
        "### Enable file saving"
      ],
      "metadata": {
        "id": "qfJJtqA3p17D"
      }
    },
    {
      "cell_type": "code",
      "source": [
        "save_dir = '/content/saved_files'\n",
        "os.makedirs(save_dir, exist_ok=True)\n",
        "sample_rate=44100\n",
        "\n",
        "\n",
        "def save_audio(idx,trial):\n",
        "  filename = f\"recording_{userid}_{idx}_{trial}.wav\"\n",
        "  destination_path = os.path.join(save_dir,filename)\n",
        "  sourcefile = f'f{idx}.wav'\n",
        "  !cp {sourcefile} {destination_path}\n",
        "\n",
        "# save_audio(1,0) # saves file /content/saved_files/recording_fyi001_1_0.wav\n",
        "\n",
        "def zip_audio_files():\n",
        "    zip_path = \"/content/saved_recordings.zip\"\n",
        "    with zipfile.ZipFile(zip_path, 'w') as zipf:\n",
        "        for root, _, files in os.walk(save_dir):\n",
        "            for file in files:\n",
        "                zipf.write(os.path.join(root, file), arcname=file)\n",
        "    print(f\"All files zipped at {zip_path}\")\n",
        "\n",
        "#save_button = widgets.Button(description=\"Save Audio to Folder\")\n",
        "#def on_save_click(b):\n",
        "#    save_audio(1,2)\n",
        "#save_button.on_click(on_save_click)"
      ],
      "metadata": {
        "id": "znCf_jP1p4nH"
      },
      "execution_count": 169,
      "outputs": []
    },
    {
      "cell_type": "markdown",
      "source": [
        "### Query favorite audio"
      ],
      "metadata": {
        "id": "vOrsgqIMNHEw"
      }
    },
    {
      "cell_type": "code",
      "source": [
        "# Function to query favorite audio\n",
        "def query_favorite(prompt_idx):\n",
        "    print('Which one is your favorite?')\n",
        "    audio_widgets = []\n",
        "    for trial in [1, 2, 3]:\n",
        "        filename = f\"recording_{userid}_{prompt_idx}_{trial}.wav\"\n",
        "        destination_path = os.path.join(save_dir, filename)\n",
        "        y, sr = librosa.load(destination_path)\n",
        "\n",
        "        # Create audio player HTML\n",
        "        audio = Audio(y, rate=sr, autoplay=False)\n",
        "        audio_widget = widgets.HTML(value=audio._repr_html_())  # Convert to HTML\n",
        "        label = widgets.Label(value=f'Audio {trial}')\n",
        "\n",
        "        # Place audio player and label side-by-side\n",
        "        hbox = widgets.HBox([audio_widget, label])\n",
        "        audio_widgets.append(hbox)\n",
        "\n",
        "    # Display each audio player and label HBox\n",
        "    for hbox in audio_widgets:\n",
        "        display(hbox)\n",
        "\n",
        "    # Create and display radio buttons\n",
        "    radio_buttons = widgets.RadioButtons(\n",
        "        options=[(f\"Audio {i}\", i) for i in range(1, 4)],\n",
        "        description='Favorite:',\n",
        "        disabled=False\n",
        "    )\n",
        "    display(radio_buttons)\n",
        "\n",
        "    # Button to confirm selection\n",
        "    confirm_button = widgets.Button(description=\"Confirm Selection\", button_style='success')\n",
        "\n",
        "    # Function to handle button click and print selected choice\n",
        "    def on_confirm_click(b):\n",
        "        print(f\"You selected Audio {radio_buttons.value} as your favorite.\")\n",
        "        user_favorites[prompt_idx-1] = radio_buttons.value\n",
        "\n",
        "    confirm_button.on_click(on_confirm_click)\n",
        "    display(confirm_button)\n"
      ],
      "metadata": {
        "id": "I8R05HNLNF7z"
      },
      "execution_count": 170,
      "outputs": []
    },
    {
      "cell_type": "markdown",
      "source": [
        "### Main plotting function\n"
      ],
      "metadata": {
        "id": "JrvRrTsLpkuk"
      }
    },
    {
      "cell_type": "code",
      "source": [
        "def plot_contours(idx,mode='live',gender=None,direct_filename='',run_mfa=True):\n",
        "\n",
        "  gender = gender if gender is not None else GENDER\n",
        "\n",
        "  if gender=='male':\n",
        "    reffiledir = \"/content/reference_audio_male_trimmed/\"\n",
        "  else:\n",
        "    reffiledir = \"/content/reference_audio_female_trimmed/\"\n",
        "\n",
        "  #########################\n",
        "  ####### LOAD AUDIO ######\n",
        "  ref_file = f'{reffiledir}r{idx}.wav'\n",
        "  learner_file = f'f{idx}.wav'\n",
        "  print(f'learner file is {learner_file}')\n",
        "\n",
        "  # write file if needed and load audio\n",
        "  if mode == 'live':\n",
        "    y_l,sr_l = librosa.load(learner_file)\n",
        "    y_trimmed = trim_silence(trim_clicks(y_l))\n",
        "\n",
        "  elif mode == 'offline':\n",
        "    print(f'Prompt is: {prompts[idx-1]}')\n",
        "    y_l,sr_l = librosa.load(f'{learnerfiledir}f{idx}.wav')\n",
        "    y_trimmed = trim_silence(y_l)\n",
        "\n",
        "  elif mode == 'direct':\n",
        "    y_l,sr_l = librosa.load(direct_filename)\n",
        "    y_trimmed = trim_silence(y_l)\n",
        "\n",
        "  else:\n",
        "    print('unknown mode')\n",
        "\n",
        "  # load reference audio files\n",
        "  y_r,sr_r = librosa.load(ref_file)\n",
        "\n",
        "  # get duration information from learner and reference\n",
        "  dur1 = librosa.get_duration(y=y_trimmed,sr=sr_l)\n",
        "  dur2 = librosa.get_duration(y=y_r,sr=sr_r)\n",
        "  dur_max = max(dur1,dur2)\n",
        "\n",
        "\n",
        "  #################################################\n",
        "  ###### SET UP TEMPORARY WORK SPACE FOR MFA ######\n",
        "  # make temporary directory for alignments\n",
        "  !rm -rf /content/mfa/\n",
        "  !mkdir -p /content/mfa/sourcefiles/\n",
        "  !mkdir -p /content/mfa/aligned/\n",
        "\n",
        "  # copy of single wav/text file pair to temporary directory\n",
        "  learner_wave_file = f\"{tempalignmentdir}sourcefiles/f{idx}.wav\"\n",
        "  learner_text_file = f\"{tempalignmentdir}sourcefiles/f{idx}.txt\"\n",
        "\n",
        "  # write temporary copy of learner wave file to alignment directory\n",
        "  # write prompt text file to learner file dir\n",
        "  with open (learner_text_file,'w') as f:\n",
        "    f.write(prompts[idx-1])\n",
        "  sf.write(learner_wave_file, y_trimmed, sr_l)\n",
        "\n",
        "  ###########################\n",
        "  ###### PLOT WAVEFORM ######\n",
        "  plt.figure(figsize=(10, 3))\n",
        "  librosa.display.waveshow(y_trimmed, sr=sr_l, alpha=0.5)\n",
        "  xlabel_text = f'Time (s)'\n",
        "\n",
        "  ############################\n",
        "  ###### GET ALIGNMENTS ######\n",
        "  # this is SUPER slow, even with minimal lexicon\n",
        "  if run_mfa:\n",
        "    !source {INSTALL_DIR}/miniconda3/bin/activate aligner; mfa align --clean -j 1 /content/mfa/sourcefiles promptlex.txt english.zip /content/mfa/aligned\n",
        "\n",
        "    ### From ChatGPT.  I didn't know how to do a try/except on a bash command within a colab cell.\n",
        "    import subprocess  # LT causes an error if you don't keep the import in this function.\n",
        "\n",
        "    try:\n",
        "        # Run the command using subprocess.run, which provides better error handling\n",
        "      result = subprocess.run(\n",
        "          f\"source {INSTALL_DIR}/miniconda3/bin/activate aligner; mfa align --clean -j 1 /content/mfa/sourcefiles promptlex.txt english.zip /content/mfa/aligned\",\n",
        "          shell=True,  # Needed for using shell commands in a single string #LT might cause conflicts with multiple shells?\n",
        "          check=True,  # Raises an exception if the command fails\n",
        "          executable='/bin/bash',  # Ensures compatibility with 'source' and 'activate'\n",
        "          stdout=subprocess.PIPE,  # Capture standard output\n",
        "          stderr=subprocess.PIPE   # Capture error output\n",
        "      )\n",
        "\n",
        "      # Print output if needed\n",
        "      # print(f\"TRY RESULT: {result.stdout.decode()}\")  # Decodes byte output to string for readability\n",
        "\n",
        "    except subprocess.CalledProcessError as e:\n",
        "      print(\"An error occurred while running the command.\")\n",
        "      print(\"Error message:\", e.stderr.decode())  # Display the error message from stderr\n",
        "      alignment_successful=False\n",
        "    ### ENd ChatGPT\n",
        "\n",
        "    else:\n",
        "      alignment_successful=True\n",
        "\n",
        "    if alignment_successful:\n",
        "      tg = textgrid.openTextgrid(f'/content/mfa/aligned/f{idx}.TextGrid',includeEmptyIntervals=False)\n",
        "      textgrid_entries = tg.getTier('phones') # tg.getTier('words')\n",
        "      (spk_rate,vowel_len) = get_duration_statistics(textgrid_entries)\n",
        "      print(f'phone sequence is {[p for (s,e,p) in textgrid_entries]}')\n",
        "\n",
        "      # set up plot elements for alignment (red lines, phone labels, time values)\n",
        "      for start, end, word in textgrid_entries:\n",
        "        word = re.sub('_[BEIS]','',word)\n",
        "        plt.axvspan(start, end, color='lightgray', alpha=0.5)  # Highlight the word region\n",
        "        plt.text((start + end) / 2, -0.1, word, horizontalalignment='center', verticalalignment='center', fontsize=8, color='black')\n",
        "        plt.axvline(start,color='r',linestyle='--',alpha=0.15)\n",
        "        plt.axvline(end,color='r',linestyle='--',alpha=0.15)\n",
        "        xlabel_text = f'Time (s) - Learner speaking rate {spk_rate:.2f} phonemes/second and average vowel length {vowel_len:.2f} seconds'\n",
        "\n",
        "\n",
        "  # complete plot\n",
        "  plt.xlim(0,dur_max)\n",
        "#  plt.xlabel(f'Time (s) - Learner speaking rate {spk_rate:.2f} phonemes/second and average vowel length {vowel_len:.2f} seconds')\n",
        "  plt.xlabel(xlabel_text)\n",
        "  plt.ylabel('Amplitude')\n",
        "  plt.show()\n",
        "\n",
        "  #######################################\n",
        "  ###### PITCH EXTRACTION (PEPLOs) ######\n",
        "  # average male: 120: average female: 220\n",
        "  f0, voiced_flag, voiced_probs = librosa.pyin(y_trimmed, fmin=librosa.note_to_hz('C2'), fmax=librosa.note_to_hz('C7')) # trimmed recording\n",
        "  f0_ref, vf_ref, vp_ref = librosa.pyin(y_r, fmin=librosa.note_to_hz('C2'), fmax=librosa.note_to_hz('C7')) # reference recording\n",
        "\n",
        "  # get utterance lengths to assign plot size (x limit)\n",
        "  time1 = librosa.frames_to_time(np.arange(len(f0)), sr=sr_l) # trimmed\n",
        "  time2 = librosa.frames_to_time(np.arange(len(f0_ref)), sr=sr_r) # reference\n",
        "\n",
        "  ###########################\n",
        "  ###### PLOT CONTOURS ######\n",
        "  plt.figure(figsize=(10, 3))\n",
        "  plt.plot(time1, f0, color='b', label='learner')\n",
        "  plt.plot(time2, f0_ref, color='g', label='reference')\n",
        "  plt.xlabel('Time (s)')\n",
        "  plt.ylabel('Frequency (Hz)')\n",
        "\n",
        "  max_y_value = max(np.nanmax(f0), np.nanmax(f0_ref)) # find max value of ref and learner pitch\n",
        "  plt.ylim(0, max_y_value + 50)  # Set y-axis to start at 0 Hz and go to max from above\n",
        "\n",
        "  plt.title('Pitch Contour')\n",
        "  plt.legend(loc='upper left', bbox_to_anchor=(1,1))\n",
        "  plt.tight_layout()\n",
        "  plt.show()\n",
        "\n",
        "  ###### PROVIDE LISTENING BUTTONS ######\n",
        "  print(\"Click the button below to play the learner audio:\")\n",
        "  display(Audio(y_trimmed, rate=sr_l))\n",
        "  print(\"Click the button below to play the reference audio:\")\n",
        "  display(Audio(y_r, rate=sr_r))"
      ],
      "metadata": {
        "id": "LcjtjT2DpbIV"
      },
      "execution_count": 171,
      "outputs": []
    },
    {
      "cell_type": "markdown",
      "source": [
        "## Live Testing\n",
        "\n",
        "Here is where you will record your voice.  There are 10 prompts.\n",
        " Each prompt has two sections, which you repeat 4 times.\n",
        "\n",
        "Section 1: Record your voice\n",
        "After you run this block, you will see a record button and a play button.  Click the record button once to record, and again to stop.  You will hear your recording immediately.  If you want to re-record it, just click to record and click to stop again.\n",
        "\n",
        "Section 2: Check the analysis\n",
        "You will see your voice waveform and its pitch contour, lined up against the pitch contour of a native speaker.  Are they close?  See if you can copy the pitch/intonation of the native speaker.  You can try it 3 different times.\n",
        "\n",
        "At the end, you will be asked which of your recordings you liked the best.  It doesn't have to be the one that is closest to the native speaker.  Listen to all three, choose the one you like best, and click \"confirm.\"\n",
        "\n",
        "You will probably reach a point where the recording button stops working.  This is just a limitation of Google Colab.  If the button stays red even if you click to stop, go ahead and re-run that block so the recorder button loses the red dot.  Then, scroll to the bottom and run the block that says \"End Session.\""
      ],
      "metadata": {
        "id": "o4PtyLzWGb_C"
      }
    },
    {
      "cell_type": "code",
      "source": [
        "mode='live'\n",
        "camera = CameraStream(constraints={'audio': True,'video':False})\n",
        "recorder = AudioRecorder(stream=camera)\n"
      ],
      "metadata": {
        "id": "IgFAh46Axx55"
      },
      "execution_count": 172,
      "outputs": []
    },
    {
      "cell_type": "markdown",
      "source": [
        "### Prompt 1: I'd like to make an appointment."
      ],
      "metadata": {
        "id": "2Q4ukzUN0o0t"
      }
    },
    {
      "cell_type": "code",
      "source": [
        "recorder = AudioRecorder(stream=camera)\n",
        "prompt_idx = 1\n",
        "trial_idx = 0\n",
        "print(f'Say the sentence \"{prompts[0]}\"')\n",
        "display(recorder)"
      ],
      "metadata": {
        "colab": {
          "base_uri": "https://localhost:8080/",
          "height": 127,
          "referenced_widgets": [
            "701faf497975460ea1a1f6f285939632",
            "3a241083371644dca80516b5baae8b2f",
            "0c557d2f44f04ca78823dbe298a808d4",
            "961c8b0740394a1bb2b720dcfb2e5584",
            "ca530feb9fe448b3a42efb1ace233dd3",
            "970eaddc24f146c78f3fd563b484ff17"
          ]
        },
        "id": "QCAHx48FJROw",
        "outputId": "630f01e9-203a-465f-e9ac-f2e9fb7b9c78"
      },
      "execution_count": 173,
      "outputs": [
        {
          "output_type": "stream",
          "name": "stdout",
          "text": [
            "Say the sentence \"I'd like to make an appointment.\"\n"
          ]
        },
        {
          "output_type": "display_data",
          "data": {
            "text/plain": [
              "AudioRecorder(audio=Audio(value=b'', format='webm'), stream=CameraStream(constraints={'audio': True, 'video': …"
            ],
            "application/vnd.jupyter.widget-view+json": {
              "version_major": 2,
              "version_minor": 0,
              "model_id": "701faf497975460ea1a1f6f285939632"
            }
          },
          "metadata": {
            "application/vnd.jupyter.widget-view+json": {
              "colab": {
                "custom_widget_manager": {
                  "url": "https://ssl.gstatic.com/colaboratory-static/widgets/colab-cdn-widget-manager/2b70e893a8ba7c0f/manager.min.js"
                }
              }
            }
          }
        }
      ]
    },
    {
      "cell_type": "code",
      "source": [
        "with open('recording.webm', 'wb') as f:\n",
        "    f.write(recorder.audio.value)\n",
        "!ffmpeg -i recording.webm -ac 1 -f wav f1.wav -y -hide_banner -loglevel panic\n",
        "save_audio(prompt_idx,trial_idx)\n",
        "plot_contours(1,mode='live',run_mfa=True)\n",
        "# switch to the following line if you don't want to wait for the alignments\n",
        "# plot_contours(1,mode='live',run_mfa=False)"
      ],
      "metadata": {
        "colab": {
          "base_uri": "https://localhost:8080/",
          "height": 1000
        },
        "id": "vN2SjebvJbZJ",
        "outputId": "8dd93b43-1d7b-45ec-dc52-40aecc0327f1"
      },
      "execution_count": 174,
      "outputs": [
        {
          "output_type": "stream",
          "name": "stdout",
          "text": [
            "learner file is f1.wav\n",
            "\u001b[2;36m \u001b[0m\u001b[32mINFO    \u001b[0m Setting up corpus information\u001b[33m...\u001b[0m                                                          \n",
            "\u001b[2;36m \u001b[0m\u001b[32mINFO    \u001b[0m Loading corpus from source files\u001b[33m...\u001b[0m                                                       \n",
            "\u001b[2K\u001b[35m   1%\u001b[0m \u001b[91m╸\u001b[0m\u001b[90m━━━━━━━━━━━━━━━━━━━━━━━━━━━━━━━━━━━━━━━━━━━━━━━━━━━━━━━\u001b[0m \u001b[32m1/100 \u001b[0m [ \u001b[33m0:00:01\u001b[0m < \u001b[36m-:--:--\u001b[0m , \u001b[31m? it/s\u001b[0m ]\n",
            "\u001b[?25h\u001b[2;36m \u001b[0m\u001b[32mINFO    \u001b[0m Found \u001b[1;36m1\u001b[0m speaker across \u001b[1;36m1\u001b[0m file, average number of utterances per speaker: \u001b[1;36m1.0\u001b[0m              \n",
            "\u001b[2;36m \u001b[0m\u001b[32mINFO    \u001b[0m Initializing multiprocessing jobs\u001b[33m...\u001b[0m                                                      \n",
            "\u001b[2;36m \u001b[0m\u001b[32mINFO    \u001b[0m Normalizing text\u001b[33m...\u001b[0m                                                                       \n",
            "\u001b[2K\u001b[35m 100%\u001b[0m \u001b[90m━━━━━━━━━━━━━━━━━━━━━━━━━━━━━━━━━━━━━━━━━━━━━━━━━━━━━━━━━━\u001b[0m \u001b[32m1/1 \u001b[0m [ \u001b[33m0:00:01\u001b[0m < \u001b[36m0:00:00\u001b[0m , \u001b[31m? it/s\u001b[0m ]\n",
            "\u001b[?25h\u001b[2;36m \u001b[0m\u001b[32mINFO    \u001b[0m Generating MFCCs\u001b[33m...\u001b[0m                                                                       \n",
            "\u001b[2K\u001b[35m 100%\u001b[0m \u001b[90m━━━━━━━━━━━━━━━━━━━━━━━━━━━━━━━━━━━━━━━━━━━━━━━━━━━━━━━━━━\u001b[0m \u001b[32m1/1 \u001b[0m [ \u001b[33m0:00:14\u001b[0m < \u001b[36m0:00:00\u001b[0m , \u001b[31m? it/s\u001b[0m ]\n",
            "\u001b[?25h\u001b[2;36m \u001b[0m\u001b[32mINFO    \u001b[0m Calculating CMVN\u001b[33m...\u001b[0m                                                                       \n",
            "\u001b[2;36m \u001b[0m\u001b[32mINFO    \u001b[0m Generating final features\u001b[33m...\u001b[0m                                                              \n",
            "\u001b[2K\u001b[35m 100%\u001b[0m \u001b[90m━━━━━━━━━━━━━━━━━━━━━━━━━━━━━━━━━━━━━━━━━━━━━━━━━━━━━━━━━━\u001b[0m \u001b[32m1/1 \u001b[0m [ \u001b[33m0:00:01\u001b[0m < \u001b[36m0:00:00\u001b[0m , \u001b[31m? it/s\u001b[0m ]\n",
            "\u001b[?25h\u001b[2;36m \u001b[0m\u001b[32mINFO    \u001b[0m Creating corpus split\u001b[33m...\u001b[0m                                                                  \n",
            "\u001b[2K\u001b[35m 100%\u001b[0m \u001b[90m━━━━━━━━━━━━━━━━━━━━━━━━━━━━━━━━━━━━━━━━━━━━━━━━━━━━━━━━━━\u001b[0m \u001b[32m1/1 \u001b[0m [ \u001b[33m0:00:01\u001b[0m < \u001b[36m0:00:00\u001b[0m , \u001b[31m? it/s\u001b[0m ]\n",
            "\u001b[?25h\u001b[2;36m \u001b[0m\u001b[32mINFO    \u001b[0m Compiling training graphs\u001b[33m...\u001b[0m                                                              \n",
            "\u001b[2;36m \u001b[0m\u001b[32mINFO    \u001b[0m Performing first-pass alignment\u001b[33m...\u001b[0m                                                        \n",
            "\u001b[2;36m \u001b[0m\u001b[32mINFO    \u001b[0m Generating alignments\u001b[33m...\u001b[0m                                                                  \n",
            "\u001b[2K\u001b[35m 100%\u001b[0m \u001b[90m━━━━━━━━━━━━━━━━━━━━━━━━━━━━━━━━━━━━━━━━━━━━━━━━━━━━━━━━━━\u001b[0m \u001b[32m1/1 \u001b[0m [ \u001b[33m0:00:01\u001b[0m < \u001b[36m0:00:00\u001b[0m , \u001b[31m? it/s\u001b[0m ]\n",
            "\u001b[?25h\u001b[2;36m \u001b[0m\u001b[32mINFO    \u001b[0m Calculating fMLLR for speaker adaptation\u001b[33m...\u001b[0m                                               \n",
            "\u001b[2K\u001b[35m 100%\u001b[0m \u001b[90m━━━━━━━━━━━━━━━━━━━━━━━━━━━━━━━━━━━━━━━━━━━━━━━━━━━━━━━━━━\u001b[0m \u001b[32m1/1 \u001b[0m [ \u001b[33m0:00:01\u001b[0m < \u001b[36m0:00:00\u001b[0m , \u001b[31m? it/s\u001b[0m ]\n",
            "\u001b[?25h\u001b[2;36m \u001b[0m\u001b[32mINFO    \u001b[0m Performing second-pass alignment\u001b[33m...\u001b[0m                                                       \n",
            "\u001b[2;36m \u001b[0m\u001b[32mINFO    \u001b[0m Generating alignments\u001b[33m...\u001b[0m                                                                  \n",
            "\u001b[2K\u001b[35m 100%\u001b[0m \u001b[90m━━━━━━━━━━━━━━━━━━━━━━━━━━━━━━━━━━━━━━━━━━━━━━━━━━━━━━━━━━\u001b[0m \u001b[32m1/1 \u001b[0m [ \u001b[33m0:00:01\u001b[0m < \u001b[36m0:00:00\u001b[0m , \u001b[31m? it/s\u001b[0m ]\n",
            "\u001b[?25h\u001b[2;36m \u001b[0m\u001b[32mINFO    \u001b[0m Collecting phone and word alignments from alignment lattices\u001b[33m...\u001b[0m                           \n",
            "\u001b[2K\u001b[35m 100%\u001b[0m \u001b[90m━━━━━━━━━━━━━━━━━━━━━━━━━━━━━━━━━━━━━━━━━━━━━━━━━━━━━━━━━━\u001b[0m \u001b[32m1/1 \u001b[0m [ \u001b[33m0:00:01\u001b[0m < \u001b[36m0:00:00\u001b[0m , \u001b[31m? it/s\u001b[0m ]\n",
            "\u001b[?25h\u001b[2;36m \u001b[0m\u001b[33mWARNING \u001b[0m Alignment analysis not available without using postgresql                                 \n",
            "\u001b[2;36m \u001b[0m\u001b[32mINFO    \u001b[0m Exporting alignment TextGrids to \u001b[35m/content/mfa/\u001b[0m\u001b[95maligned...\u001b[0m                                  \n",
            "\u001b[2K\u001b[35m 100%\u001b[0m \u001b[90m━━━━━━━━━━━━━━━━━━━━━━━━━━━━━━━━━━━━━━━━━━━━━━━━━━━━━━━━━━\u001b[0m \u001b[32m1/1 \u001b[0m [ \u001b[33m0:00:00\u001b[0m < \u001b[36m0:00:00\u001b[0m , \u001b[31m? it/s\u001b[0m ]\n",
            "\u001b[?25h\u001b[2;36m \u001b[0m\u001b[32mINFO    \u001b[0m Finished exporting TextGrids to \u001b[35m/content/mfa/\u001b[0m\u001b[95maligned\u001b[0m!                                     \n",
            "\u001b[2;36m \u001b[0m\u001b[32mINFO    \u001b[0m Done! Everything took \u001b[1;36m26.737\u001b[0m seconds                                                      \n",
            "phone sequence is ['AY1', 'D', 'L', 'AY1', 'K', 'T', 'IH0', 'M', 'EY1', 'K', 'AH0', 'N', 'AH0', 'P', 'OY1', 'N', 'T', 'M', 'AH0', 'N', 'T']\n"
          ]
        },
        {
          "output_type": "display_data",
          "data": {
            "text/plain": [
              "<Figure size 1000x300 with 1 Axes>"
            ],
            "image/png": "[encoded data removed]"
          },
          "metadata": {}
        },
        {
          "output_type": "display_data",
          "data": {
            "text/plain": [
              "<Figure size 1000x300 with 1 Axes>"
            ],
            "image/png": "[encoded data removed]"
          },
          "metadata": {}
        },
        {
          "output_type": "stream",
          "name": "stdout",
          "text": [
            "Click the button below to play the learner audio:\n"
          ]
        },
        {
          "output_type": "display_data",
          "data": {
            "text/plain": [
              "<IPython.lib.display.Audio object>"
            ],
            "text/html": [
              "\n",
              "                <audio  controls=\"controls\" >\n",
              "                    <source src=\"data:audio/wav;base64,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\" type=\"audio/wav\" />\n",
              "                    Your browser does not support the audio element.\n",
              "                </audio>\n",
              "              "
            ]
          },
          "metadata": {}
        },
        {
          "output_type": "stream",
          "name": "stdout",
          "text": [
            "Click the button below to play the reference audio:\n"
          ]
        },
        {
          "output_type": "display_data",
          "data": {
            "text/plain": [
              "<IPython.lib.display.Audio object>"
            ],
            "text/html": [
              "\n",
              "                <audio  controls=\"controls\" >\n",
              "                    <source src=\"data:audio/wav;base64,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\" type=\"audio/wav\" />\n",
              "                    Your browser does not support the audio element.\n",
              "                </audio>\n",
              "              "
            ]
          },
          "metadata": {}
        }
      ]
    },
    {
      "cell_type": "code",
      "source": [
        "recorder = AudioRecorder(stream=camera)\n",
        "trial_idx = 1\n",
        "print(f'Say the sentence \"{prompts[0]}\"')\n",
        "display(recorder)"
      ],
      "metadata": {
        "id": "CseYHwOHGm2d"
      },
      "execution_count": null,
      "outputs": []
    },
    {
      "cell_type": "code",
      "source": [
        "with open('recording.webm', 'wb') as f:\n",
        "    f.write(recorder.audio.value)\n",
        "!ffmpeg -i recording.webm -ac 1 -f wav f1.wav -y -hide_banner -loglevel panic\n",
        "save_audio(prompt_idx,trial_idx)\n",
        "plot_contours(1,mode='live',run_mfa=False)"
      ],
      "metadata": {
        "id": "cm3oPyPyGqdj"
      },
      "execution_count": null,
      "outputs": []
    },
    {
      "cell_type": "code",
      "source": [
        "recorder = AudioRecorder(stream=camera)\n",
        "trial_idx = 2\n",
        "print(f'Say the sentence \"{prompts[0]}\"')\n",
        "display(recorder)"
      ],
      "metadata": {
        "id": "hoSYDxzqGowz"
      },
      "execution_count": null,
      "outputs": []
    },
    {
      "cell_type": "code",
      "source": [
        "with open('recording.webm', 'wb') as f:\n",
        "    f.write(recorder.audio.value)\n",
        "!ffmpeg -i recording.webm -ac 1 -f wav f1.wav -y -hide_banner -loglevel panic\n",
        "save_audio(prompt_idx,trial_idx)\n",
        "plot_contours(1,mode='live',run_mfa=False)"
      ],
      "metadata": {
        "id": "cqVJKwYfGrPd"
      },
      "execution_count": null,
      "outputs": []
    },
    {
      "cell_type": "code",
      "source": [
        "recorder = AudioRecorder(stream=camera)\n",
        "trial_idx = 3\n",
        "print(f'Say the sentence \"{prompts[0]}\"')\n",
        "display(recorder)"
      ],
      "metadata": {
        "id": "UfGYZVgGGoUL"
      },
      "execution_count": null,
      "outputs": []
    },
    {
      "cell_type": "code",
      "source": [
        "with open('recording.webm', 'wb') as f:\n",
        "    f.write(recorder.audio.value)\n",
        "!ffmpeg -i recording.webm -ac 1 -f wav f1.wav -y -hide_banner -loglevel panic\n",
        "save_audio(prompt_idx,trial_idx)\n",
        "plot_contours(1,mode='live',run_mfa=False)"
      ],
      "metadata": {
        "id": "F8bhR2WhGr5E"
      },
      "execution_count": null,
      "outputs": []
    },
    {
      "cell_type": "code",
      "source": [
        "query_favorite(prompt_idx)"
      ],
      "metadata": {
        "id": "Rmyzl1rgNWYs"
      },
      "execution_count": null,
      "outputs": []
    },
    {
      "cell_type": "markdown",
      "source": [
        "### Prompt 2: Can I change the flight return date?"
      ],
      "metadata": {
        "id": "A14Neo-317uE"
      }
    },
    {
      "cell_type": "code",
      "source": [
        "del recorder\n",
        "gc.collect()\n",
        "recorder = AudioRecorder(stream=camera)\n",
        "prompt_idx = 2\n",
        "outwavfile = f\"f{prompt_idx}.wav\"\n",
        "trial_idx = 0\n",
        "print(f'Say the sentence \"{prompts[prompt_idx-1]}\"')\n",
        "display(recorder)"
      ],
      "metadata": {
        "id": "VAoXaPJf16vt"
      },
      "execution_count": null,
      "outputs": []
    },
    {
      "cell_type": "code",
      "source": [
        "with open('recording.webm', 'wb') as f:\n",
        "    f.write(recorder.audio.value)\n",
        "!ffmpeg -i recording.webm -ac 1 -f wav f2.wav -y -hide_banner -loglevel panic\n",
        "save_audio(prompt_idx,trial_idx)\n",
        "plot_contours(prompt_idx,mode='live')"
      ],
      "metadata": {
        "id": "sk3KI7po2bHy"
      },
      "execution_count": null,
      "outputs": []
    },
    {
      "cell_type": "code",
      "source": [
        "trial_idx = 1\n",
        "print(f'Say the sentence \"{prompts[prompt_idx-1]}\"')\n",
        "display(recorder)"
      ],
      "metadata": {
        "id": "AKFivuUUH04a"
      },
      "execution_count": null,
      "outputs": []
    },
    {
      "cell_type": "code",
      "source": [
        "with open('recording.webm', 'wb') as f:\n",
        "    f.write(recorder.audio.value)\n",
        "!ffmpeg -i recording.webm -ac 1 -f wav f2.wav -y -hide_banner -loglevel panic\n",
        "save_audio(prompt_idx,trial_idx)\n",
        "plot_contours(prompt_idx,mode='live')"
      ],
      "metadata": {
        "id": "Pz1hVQ_vH8pI"
      },
      "execution_count": null,
      "outputs": []
    },
    {
      "cell_type": "code",
      "source": [
        "trial_idx = 2\n",
        "print(f'Say the sentence \"{prompts[prompt_idx-1]}\"')\n",
        "display(recorder)"
      ],
      "metadata": {
        "id": "-6P5Jls3H0o-"
      },
      "execution_count": null,
      "outputs": []
    },
    {
      "cell_type": "code",
      "source": [
        "with open('recording.webm', 'wb') as f:\n",
        "    f.write(recorder.audio.value)\n",
        "!ffmpeg -i recording.webm -ac 1 -f wav {outwavfile} -y -hide_banner -loglevel panic\n",
        "save_audio(prompt_idx,trial_idx)\n",
        "plot_contours(prompt_idx,mode='live',run_mfa=False)"
      ],
      "metadata": {
        "id": "ytzKNKK5IEX2"
      },
      "execution_count": null,
      "outputs": []
    },
    {
      "cell_type": "code",
      "source": [
        "trial_idx = 3\n",
        "print(f'Say the sentence \"{prompts[prompt_idx-1]}\"')\n",
        "display(recorder)"
      ],
      "metadata": {
        "id": "FPO69i0eH0cB"
      },
      "execution_count": null,
      "outputs": []
    },
    {
      "cell_type": "code",
      "source": [
        "with open('recording.webm', 'wb') as f:\n",
        "    f.write(recorder.audio.value)\n",
        "!ffmpeg -i recording.webm -ac 1 -f wav {outwavfile} -y -hide_banner -loglevel panic\n",
        "save_audio(prompt_idx,trial_idx)\n",
        "plot_contours(prompt_idx,mode='live',run_mfa=False)"
      ],
      "metadata": {
        "id": "33RYQ3uIIFAu"
      },
      "execution_count": null,
      "outputs": []
    },
    {
      "cell_type": "code",
      "source": [
        "query_favorite(2)"
      ],
      "metadata": {
        "id": "Jex5nfkqM6AK"
      },
      "execution_count": null,
      "outputs": []
    },
    {
      "cell_type": "markdown",
      "source": [
        "### Prompt 3: I'd like the blue cheese burger with bacon."
      ],
      "metadata": {
        "id": "9KJDRyGrNshD"
      }
    },
    {
      "cell_type": "code",
      "source": [
        "del recorder\n",
        "gc.collect()\n",
        "recorder = AudioRecorder(stream=camera)\n",
        "prompt_idx = 3\n",
        "outwavfile = f\"f{prompt_idx}.wav\"\n",
        "\n",
        "trial_idx = 0\n",
        "print(f'Say the sentence \"{prompts[prompt_idx-1]}\"')\n",
        "display(recorder)"
      ],
      "metadata": {
        "id": "E62m0zKCNxYj"
      },
      "execution_count": null,
      "outputs": []
    },
    {
      "cell_type": "code",
      "source": [
        "with open('recording.webm', 'wb') as f:\n",
        "    f.write(recorder.audio.value)\n",
        "!ffmpeg -i recording.webm -ac 1 -f wav {outwavfile} -y -hide_banner -loglevel panic\n",
        "save_audio(prompt_idx,trial_idx)\n",
        "plot_contours(prompt_idx,mode='live')"
      ],
      "metadata": {
        "id": "RTbPB8itN1Zp"
      },
      "execution_count": null,
      "outputs": []
    },
    {
      "cell_type": "code",
      "source": [
        "trial_idx = 1\n",
        "print(f'Say the sentence \"{prompts[prompt_idx-1]}\"')\n",
        "display(recorder)"
      ],
      "metadata": {
        "id": "ZZbKSoggOX80"
      },
      "execution_count": null,
      "outputs": []
    },
    {
      "cell_type": "code",
      "source": [
        "with open('recording.webm', 'wb') as f:\n",
        "    f.write(recorder.audio.value)\n",
        "!ffmpeg -i recording.webm -ac 1 -f wav {outwavfile} -y -hide_banner -loglevel panic\n",
        "save_audio(prompt_idx,trial_idx)\n",
        "plot_contours(prompt_idx,mode='live',run_mfa=False)"
      ],
      "metadata": {
        "id": "S4n7VZOvOcvZ"
      },
      "execution_count": null,
      "outputs": []
    },
    {
      "cell_type": "code",
      "source": [
        "trial_idx = 2\n",
        "print(f'Say the sentence \"{prompts[prompt_idx-1]}\"')\n",
        "display(recorder)"
      ],
      "metadata": {
        "id": "N0p6VfXcOWzd"
      },
      "execution_count": null,
      "outputs": []
    },
    {
      "cell_type": "code",
      "source": [
        "with open('recording.webm', 'wb') as f:\n",
        "    f.write(recorder.audio.value)\n",
        "!ffmpeg -i recording.webm -ac 1 -f wav {outwavfile} -y -hide_banner -loglevel panic\n",
        "save_audio(prompt_idx,trial_idx)\n",
        "plot_contours(prompt_idx,mode='live',run_mfa=False)"
      ],
      "metadata": {
        "id": "q2tE_fsiOdaG"
      },
      "execution_count": null,
      "outputs": []
    },
    {
      "cell_type": "code",
      "source": [
        "trial_idx = 3\n",
        "print(f'Say the sentence \"{prompts[prompt_idx-1]}\"')\n",
        "display(recorder)"
      ],
      "metadata": {
        "id": "VamBY1xNOV09"
      },
      "execution_count": null,
      "outputs": []
    },
    {
      "cell_type": "code",
      "source": [
        "with open('recording.webm', 'wb') as f:\n",
        "    f.write(recorder.audio.value)\n",
        "!ffmpeg -i recording.webm -ac 1 -f wav {outwavfile} -y -hide_banner -loglevel panic\n",
        "save_audio(prompt_idx,trial_idx)\n",
        "plot_contours(prompt_idx,mode='live',run_mfa=False)"
      ],
      "metadata": {
        "id": "3xgljiopOeOK"
      },
      "execution_count": null,
      "outputs": []
    },
    {
      "cell_type": "code",
      "source": [
        "query_favorite(prompt_idx)"
      ],
      "metadata": {
        "id": "1g65bsKrOeml"
      },
      "execution_count": null,
      "outputs": []
    },
    {
      "cell_type": "markdown",
      "source": [
        "### Prompt 4: How can I get to the train station?"
      ],
      "metadata": {
        "id": "iLj00gG4QTd5"
      }
    },
    {
      "cell_type": "code",
      "source": [
        "del recorder\n",
        "gc.collect()\n",
        "recorder = AudioRecorder(stream=camera)\n",
        "prompt_idx = 4\n",
        "outwavfile = f\"f{prompt_idx}.wav\"\n",
        "\n",
        "trial_idx = 0\n",
        "print(f'Say the sentence \"{prompts[prompt_idx-1]}\"')\n",
        "display(recorder)"
      ],
      "metadata": {
        "id": "wvE6Db2FQLCr"
      },
      "execution_count": null,
      "outputs": []
    },
    {
      "cell_type": "code",
      "source": [
        "with open('recording.webm', 'wb') as f:\n",
        "    f.write(recorder.audio.value)\n",
        "!ffmpeg -i recording.webm -ac 1 -f wav {outwavfile} -y -hide_banner -loglevel panic\n",
        "save_audio(prompt_idx,trial_idx)\n",
        "plot_contours(prompt_idx,mode='live',run_mfa=False)"
      ],
      "metadata": {
        "id": "YE4d7_vqQNNI"
      },
      "execution_count": null,
      "outputs": []
    },
    {
      "cell_type": "code",
      "source": [
        "trial_idx = 1\n",
        "print(f'Say the sentence \"{prompts[prompt_idx-1]}\"')\n",
        "display(recorder)"
      ],
      "metadata": {
        "id": "GSCZrH77RA3H"
      },
      "execution_count": null,
      "outputs": []
    },
    {
      "cell_type": "code",
      "source": [
        "with open('recording.webm', 'wb') as f:\n",
        "    f.write(recorder.audio.value)\n",
        "!ffmpeg -i recording.webm -ac 1 -f wav {outwavfile} -y -hide_banner -loglevel panic\n",
        "save_audio(prompt_idx,trial_idx)\n",
        "plot_contours(prompt_idx,mode='live',run_mfa=False)"
      ],
      "metadata": {
        "id": "1WSC3nGHRDwp"
      },
      "execution_count": null,
      "outputs": []
    },
    {
      "cell_type": "code",
      "source": [
        "trial_idx = 2\n",
        "print(f'Say the sentence \"{prompts[prompt_idx-1]}\"')\n",
        "display(recorder)"
      ],
      "metadata": {
        "id": "03IGnNBhRApy"
      },
      "execution_count": null,
      "outputs": []
    },
    {
      "cell_type": "code",
      "source": [
        "with open('recording.webm', 'wb') as f:\n",
        "    f.write(recorder.audio.value)\n",
        "!ffmpeg -i recording.webm -ac 1 -f wav {outwavfile} -y -hide_banner -loglevel panic\n",
        "save_audio(prompt_idx,trial_idx)\n",
        "plot_contours(prompt_idx,mode='live',run_mfa=False)"
      ],
      "metadata": {
        "id": "TAVgUxrgREqI"
      },
      "execution_count": null,
      "outputs": []
    },
    {
      "cell_type": "code",
      "source": [
        "trial_idx = 3\n",
        "print(f'Say the sentence \"{prompts[prompt_idx-1]}\"')\n",
        "display(recorder)"
      ],
      "metadata": {
        "id": "Uutmha7WRAG3"
      },
      "execution_count": null,
      "outputs": []
    },
    {
      "cell_type": "code",
      "source": [
        "with open('recording.webm', 'wb') as f:\n",
        "    f.write(recorder.audio.value)\n",
        "!ffmpeg -i recording.webm -ac 1 -f wav {outwavfile} -y -hide_banner -loglevel panic\n",
        "save_audio(prompt_idx,trial_idx)\n",
        "plot_contours(prompt_idx,mode='live',run_mfa=False)"
      ],
      "metadata": {
        "id": "7kj2J77CRGwr"
      },
      "execution_count": null,
      "outputs": []
    },
    {
      "cell_type": "code",
      "source": [
        "query_favorite(prompt_idx)"
      ],
      "metadata": {
        "id": "Nofkeb_gR2_o"
      },
      "execution_count": null,
      "outputs": []
    },
    {
      "cell_type": "code",
      "source": [
        "%who"
      ],
      "metadata": {
        "id": "yPXLmzCxxcbm"
      },
      "execution_count": null,
      "outputs": []
    },
    {
      "cell_type": "markdown",
      "source": [
        "### Prompt 5"
      ],
      "metadata": {
        "id": "8zQHPF8IRrEy"
      }
    },
    {
      "cell_type": "code",
      "source": [
        "del recorder\n",
        "gc.collect()\n",
        "recorder = AudioRecorder(stream=camera)\n",
        "prompt_idx = 5\n",
        "outwavfile = f\"f{prompt_idx}.wav\"\n",
        "\n",
        "trial_idx = 0\n",
        "print(f'Say the sentence \"{prompts[prompt_idx-1]}\"')\n",
        "display(recorder)"
      ],
      "metadata": {
        "id": "2OOYCDB6R-MC"
      },
      "execution_count": null,
      "outputs": []
    },
    {
      "cell_type": "code",
      "source": [
        "with open('recording.webm', 'wb') as f:\n",
        "    f.write(recorder.audio.value)\n",
        "!ffmpeg -i recording.webm -ac 1 -f wav {outwavfile} -y -hide_banner -loglevel panic\n",
        "save_audio(prompt_idx,trial_idx)\n",
        "plot_contours(prompt_idx,mode='live')"
      ],
      "metadata": {
        "id": "XdnYJNjeSFQl"
      },
      "execution_count": null,
      "outputs": []
    },
    {
      "cell_type": "code",
      "source": [
        "import time\n",
        "\n",
        "camera.close()\n",
        "del recorder\n",
        "gc.collect()\n",
        "time.sleep(1)  # Brief delay to ensure resources are freed\n",
        "camera.active=True\n",
        "camera = CameraStream(constraints={'audio': True,'video':False})  # Recreate CameraStream\n",
        "recorder = AudioRecorder(stream=camera)\n",
        "display(recorder)"
      ],
      "metadata": {
        "id": "hjq8uSGEdjxz"
      },
      "execution_count": null,
      "outputs": []
    },
    {
      "cell_type": "code",
      "source": [
        "trial_idx = 1\n",
        "print(f'Say the sentence \"{prompts[prompt_idx-1]}\"')\n",
        "display(recorder)"
      ],
      "metadata": {
        "id": "1aqFtqe9SLr6"
      },
      "execution_count": null,
      "outputs": []
    },
    {
      "cell_type": "code",
      "source": [
        "with open('recording.webm', 'wb') as f:\n",
        "    f.write(recorder.audio.value)\n",
        "!ffmpeg -i recording.webm -ac 1 -f wav {outwavfile} -y -hide_banner -loglevel panic\n",
        "save_audio(prompt_idx,trial_idx)\n",
        "plot_contours(prompt_idx,mode='live')"
      ],
      "metadata": {
        "id": "6j7PCwPHSPE0"
      },
      "execution_count": null,
      "outputs": []
    },
    {
      "cell_type": "code",
      "source": [
        "trial_idx = 2\n",
        "print(f'Say the sentence \"{prompts[prompt_idx-1]}\"')\n",
        "display(recorder)"
      ],
      "metadata": {
        "id": "wMK1CigMSM9f"
      },
      "execution_count": null,
      "outputs": []
    },
    {
      "cell_type": "code",
      "source": [
        "with open('recording.webm', 'wb') as f:\n",
        "    f.write(recorder.audio.value)\n",
        "!ffmpeg -i recording.webm -ac 1 -f wav {outwavfile} -y -hide_banner -loglevel panic\n",
        "save_audio(prompt_idx,trial_idx)\n",
        "plot_contours(prompt_idx,mode='live',run_mfa=False)"
      ],
      "metadata": {
        "id": "d_vePpYmSS9T"
      },
      "execution_count": null,
      "outputs": []
    },
    {
      "cell_type": "code",
      "source": [
        "trial_idx = 3\n",
        "print(f'Say the sentence \"{prompts[prompt_idx-1]}\"')\n",
        "display(recorder)"
      ],
      "metadata": {
        "id": "f8WVb7GtSMnC"
      },
      "execution_count": null,
      "outputs": []
    },
    {
      "cell_type": "code",
      "source": [
        "with open('recording.webm', 'wb') as f:\n",
        "    f.write(recorder.audio.value)\n",
        "!ffmpeg -i recording.webm -ac 1 -f wav {outwavfile} -y -hide_banner -loglevel panic\n",
        "save_audio(prompt_idx,trial_idx)\n",
        "plot_contours(prompt_idx,mode='live',run_mfa=False)"
      ],
      "metadata": {
        "id": "b0dwmm60STfN"
      },
      "execution_count": null,
      "outputs": []
    },
    {
      "cell_type": "code",
      "source": [
        "query_favorite(prompt_idx)"
      ],
      "metadata": {
        "id": "EHsG8uadSURC"
      },
      "execution_count": null,
      "outputs": []
    },
    {
      "cell_type": "markdown",
      "source": [
        "## End Session"
      ],
      "metadata": {
        "id": "F-fCnwDOxt49"
      }
    },
    {
      "cell_type": "code",
      "source": [
        "faves = f'Favorites for user {userid} are: {user_favorites}'\n",
        "print(faves)\n",
        "filepath = os.path.join(save_dir,'favorites.txt')\n",
        "with open (filepath,'w') as f:\n",
        "  f.write(faves)\n",
        "savefilename = f'saved_files_{userid}_{prompt_idx}.zip'\n",
        "try:\n",
        "  !zip -qr {savefilename} {save_dir}\n",
        "  print(f'All files zipped to {savefilename}')\n",
        "except Exception as e:\n",
        "  print(f'An error occurred: {e}')\n",
        "\n",
        "ascii_art = pyfiglet.figlet_format(\"Thank You\", font=\"jazmine\")\n",
        "print(ascii_art)"
      ],
      "metadata": {
        "id": "T2mbubbPR1AV"
      },
      "execution_count": null,
      "outputs": []
    },
    {
      "cell_type": "markdown",
      "source": [
        "# The End!\n",
        "Don't worry about anything after this.  It is just for development."
      ],
      "metadata": {
        "id": "MxVqCuIzylPc"
      }
    },
    {
      "cell_type": "markdown",
      "source": [
        "## Offline Testing"
      ],
      "metadata": {
        "id": "mcbcmGmryLpF"
      }
    },
    {
      "cell_type": "code",
      "source": [
        "#plot_contours(9,mode='offline')\n",
        "!wget -q https://raw.githubusercontent.com/lauratomokiyo/imspeaking/main/f.zip\n",
        "!unzip -qq /content/f.zip  # male learner\n",
        "plot_contours(9,mode='offline')"
      ],
      "metadata": {
        "id": "8mQNVmwfyUGf"
      },
      "execution_count": null,
      "outputs": []
    },
    {
      "cell_type": "markdown",
      "source": [
        "## Direct Testing"
      ],
      "metadata": {
        "id": "8iDIur92yeCY"
      }
    },
    {
      "cell_type": "code",
      "source": [
        "plot_contours(3,mode='direct', direct_filename='/content/saved_files/recording_fyi001_3_1.wav')"
      ],
      "metadata": {
        "id": "L7XUQoloyf5Y"
      },
      "execution_count": null,
      "outputs": []
    },
    {
      "cell_type": "markdown",
      "source": [
        "## Maybe Helpful\n"
      ],
      "metadata": {
        "id": "hrN8uf2yEoYZ"
      }
    },
    {
      "cell_type": "code",
      "source": [
        "!sudo apt-get install portaudio19-dev\n",
        "!pip install sounddevice\n",
        "import sounddevice as sd\n",
        "import soundfile as sf\n",
        "\n",
        "duration = 5  # seconds\n",
        "fs = 44100\n",
        "\n",
        "myrecording = sd.rec(int(duration * fs), samplerate=fs, channels=1)\n",
        "sd.wait()  # Wait until recording is finished\n",
        "sf.write('my_audio.wav', myrecording, fs)  # Save as WAV file"
      ],
      "metadata": {
        "id": "0dkuEowyR0K-"
      },
      "execution_count": null,
      "outputs": []
    },
    {
      "cell_type": "code",
      "source": [
        "#  !source {INSTALL_DIR}/miniconda3/bin/activate aligner; mfa align_one --clean -j 1 /content/mfa/sourcefiles/f1.wav /content/mfa/sourcefiles/f1.txt promptlex.txt english.zip /content/mfa/aligned\n",
        "#  !source {INSTALL_DIR}/miniconda3/bin/activate aligner; mfa align_one --clean --overwrite -j 1 {learner_wave_file} {learner_text_file} promptlex.txt english.zip /content/mfa/aligned\n",
        "#  align_one arguments: SOUND_FILE_PATH TEXT_FILE_PATH DICTIONARY_PATH ACOUSTIC_MODEL_PATH OUTPUT_PATH\n"
      ],
      "metadata": {
        "id": "j9LdJHrYEm9_"
      },
      "execution_count": null,
      "outputs": []
    },
    {
      "cell_type": "code",
      "source": [
        "# Things I tried to fix the problem of the record button stopping working:\n",
        "import time\n",
        "\n",
        "camera.close()\n",
        "del recorder\n",
        "gc.collect()\n",
        "time.sleep(1)  # Brief delay to ensure resources are freed\n",
        "camera.active=True\n",
        "camera = CameraStream(constraints={'audio': True,'video':False})  # Recreate CameraStream\n",
        "recorder = AudioRecorder(stream=camera)\n",
        "display(recorder)"
      ],
      "metadata": {
        "id": "jGBCc0kugjbK"
      },
      "execution_count": null,
      "outputs": []
    }
  ]
}